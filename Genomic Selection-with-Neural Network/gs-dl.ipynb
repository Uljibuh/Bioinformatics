{
 "cells": [
  {
   "cell_type": "code",
   "execution_count": 1,
   "id": "d26d0f48",
   "metadata": {
    "_cell_guid": "b1076dfc-b9ad-4769-8c92-a6c4dae69d19",
    "_uuid": "8f2839f25d086af736a60e9eeb907d3b93b6e0e5",
    "execution": {
     "iopub.execute_input": "2022-04-01T13:40:33.396910Z",
     "iopub.status.busy": "2022-04-01T13:40:33.393078Z",
     "iopub.status.idle": "2022-04-01T13:40:33.416501Z",
     "shell.execute_reply": "2022-04-01T13:40:33.417180Z",
     "shell.execute_reply.started": "2022-04-01T10:38:41.979355Z"
    },
    "papermill": {
     "duration": 0.059677,
     "end_time": "2022-04-01T13:40:33.417593",
     "exception": false,
     "start_time": "2022-04-01T13:40:33.357916",
     "status": "completed"
    },
    "tags": []
   },
   "outputs": [
    {
     "name": "stdout",
     "output_type": "stream",
     "text": [
      "/kaggle/input/genomicselection-data-weat/DATA/wheat.Y\n",
      "/kaggle/input/genomicselection-data-weat/DATA/wheat.X\n"
     ]
    }
   ],
   "source": [
    "# This Python 3 environment comes with many helpful analytics libraries installed\n",
    "# It is defined by the kaggle/python Docker image: https://github.com/kaggle/docker-python\n",
    "# For example, here's several helpful packages to load\n",
    "\n",
    "import numpy as np # linear algebra\n",
    "import pandas as pd # data processing, CSV file I/O (e.g. pd.read_csv)\n",
    "\n",
    "# Input data files are available in the read-only \"../input/\" directory\n",
    "# For example, running this (by clicking run or pressing Shift+Enter) will list all files under the input directory\n",
    "\n",
    "import os\n",
    "for dirname, _, filenames in os.walk('/kaggle/input'):\n",
    "    for filename in filenames:\n",
    "        print(os.path.join(dirname, filename))\n",
    "\n",
    "# You can write up to 20GB to the current directory (/kaggle/working/) that gets preserved as output when you create a version using \"Save & Run All\" \n",
    "# You can also write temporary files to /kaggle/temp/, but they won't be saved outside of the current session"
   ]
  },
  {
   "cell_type": "code",
   "execution_count": 2,
   "id": "112154dc",
   "metadata": {
    "_kg_hide-input": true,
    "execution": {
     "iopub.execute_input": "2022-04-01T13:40:33.461302Z",
     "iopub.status.busy": "2022-04-01T13:40:33.460311Z",
     "iopub.status.idle": "2022-04-01T13:41:09.130972Z",
     "shell.execute_reply": "2022-04-01T13:41:09.129943Z"
    },
    "papermill": {
     "duration": 35.692492,
     "end_time": "2022-04-01T13:41:09.131214",
     "exception": false,
     "start_time": "2022-04-01T13:40:33.438722",
     "status": "completed"
    },
    "tags": []
   },
   "outputs": [
    {
     "name": "stdout",
     "output_type": "stream",
     "text": [
      "Collecting talos\r\n",
      "  Downloading talos-1.0.2-py3-none-any.whl (53 kB)\r\n",
      "     |████████████████████████████████| 53 kB 388 kB/s            \r\n",
      "\u001b[?25hRequirement already satisfied: sklearn in /opt/conda/lib/python3.7/site-packages (from talos) (0.0)\r\n",
      "Requirement already satisfied: pandas in /opt/conda/lib/python3.7/site-packages (from talos) (1.3.5)\r\n",
      "Collecting kerasplotlib\r\n",
      "  Downloading kerasplotlib-0.2.1-py3-none-any.whl (4.5 kB)\r\n",
      "Collecting chances\r\n",
      "  Downloading chances-0.1.9.tar.gz (35 kB)\r\n",
      "  Preparing metadata (setup.py) ... \u001b[?25l-\b \bdone\r\n",
      "\u001b[?25hRequirement already satisfied: statsmodels>=0.11.0 in /opt/conda/lib/python3.7/site-packages (from talos) (0.13.1)\r\n",
      "Collecting wrangle\r\n",
      "  Downloading wrangle-0.6.11-py3-none-any.whl (52 kB)\r\n",
      "     |████████████████████████████████| 52 kB 402 kB/s            \r\n",
      "\u001b[?25hRequirement already satisfied: numpy in /opt/conda/lib/python3.7/site-packages (from talos) (1.20.3)\r\n",
      "Requirement already satisfied: tqdm in /opt/conda/lib/python3.7/site-packages (from talos) (4.62.3)\r\n",
      "Requirement already satisfied: tensorflow>=2.0.0 in /opt/conda/lib/python3.7/site-packages (from talos) (2.6.2)\r\n",
      "Requirement already satisfied: requests in /opt/conda/lib/python3.7/site-packages (from talos) (2.26.0)\r\n",
      "Collecting astetik\r\n",
      "  Downloading astetik-1.11.1-py3-none-any.whl (5.4 MB)\r\n",
      "     |████████████████████████████████| 5.4 MB 973 kB/s            \r\n",
      "\u001b[?25hRequirement already satisfied: patsy>=0.5.2 in /opt/conda/lib/python3.7/site-packages (from statsmodels>=0.11.0->talos) (0.5.2)\r\n",
      "Requirement already satisfied: scipy>=1.3 in /opt/conda/lib/python3.7/site-packages (from statsmodels>=0.11.0->talos) (1.7.3)\r\n",
      "Requirement already satisfied: python-dateutil>=2.7.3 in /opt/conda/lib/python3.7/site-packages (from pandas->talos) (2.8.2)\r\n",
      "Requirement already satisfied: pytz>=2017.3 in /opt/conda/lib/python3.7/site-packages (from pandas->talos) (2021.3)\r\n",
      "Requirement already satisfied: wheel~=0.35 in /opt/conda/lib/python3.7/site-packages (from tensorflow>=2.0.0->talos) (0.37.0)\r\n",
      "Requirement already satisfied: flatbuffers~=1.12.0 in /opt/conda/lib/python3.7/site-packages (from tensorflow>=2.0.0->talos) (1.12)\r\n",
      "Requirement already satisfied: keras<2.7,>=2.6.0 in /opt/conda/lib/python3.7/site-packages (from tensorflow>=2.0.0->talos) (2.6.0)\r\n",
      "Requirement already satisfied: tensorboard<2.7,>=2.6.0 in /opt/conda/lib/python3.7/site-packages (from tensorflow>=2.0.0->talos) (2.6.0)\r\n",
      "Requirement already satisfied: tensorflow-estimator<2.7,>=2.6.0 in /opt/conda/lib/python3.7/site-packages (from tensorflow>=2.0.0->talos) (2.6.0)\r\n",
      "Requirement already satisfied: opt-einsum~=3.3.0 in /opt/conda/lib/python3.7/site-packages (from tensorflow>=2.0.0->talos) (3.3.0)\r\n",
      "Requirement already satisfied: absl-py~=0.10 in /opt/conda/lib/python3.7/site-packages (from tensorflow>=2.0.0->talos) (0.15.0)\r\n",
      "Requirement already satisfied: termcolor~=1.1.0 in /opt/conda/lib/python3.7/site-packages (from tensorflow>=2.0.0->talos) (1.1.0)\r\n",
      "Collecting typing-extensions~=3.7.4\r\n",
      "  Downloading typing_extensions-3.7.4.3-py3-none-any.whl (22 kB)\r\n",
      "Requirement already satisfied: astunparse~=1.6.3 in /opt/conda/lib/python3.7/site-packages (from tensorflow>=2.0.0->talos) (1.6.3)\r\n",
      "Requirement already satisfied: gast==0.4.0 in /opt/conda/lib/python3.7/site-packages (from tensorflow>=2.0.0->talos) (0.4.0)\r\n",
      "Requirement already satisfied: google-pasta~=0.2 in /opt/conda/lib/python3.7/site-packages (from tensorflow>=2.0.0->talos) (0.2.0)\r\n",
      "Collecting numpy\r\n",
      "  Downloading numpy-1.19.5-cp37-cp37m-manylinux2010_x86_64.whl (14.8 MB)\r\n",
      "     |████████████████████████████████| 14.8 MB 45.6 MB/s            \r\n",
      "\u001b[?25hRequirement already satisfied: keras-preprocessing~=1.1.2 in /opt/conda/lib/python3.7/site-packages (from tensorflow>=2.0.0->talos) (1.1.2)\r\n",
      "Requirement already satisfied: h5py~=3.1.0 in /opt/conda/lib/python3.7/site-packages (from tensorflow>=2.0.0->talos) (3.1.0)\r\n",
      "Requirement already satisfied: grpcio<2.0,>=1.37.0 in /opt/conda/lib/python3.7/site-packages (from tensorflow>=2.0.0->talos) (1.43.0)\r\n",
      "Collecting six~=1.15.0\r\n",
      "  Downloading six-1.15.0-py2.py3-none-any.whl (10 kB)\r\n",
      "Collecting wrapt~=1.12.1\r\n",
      "  Downloading wrapt-1.12.1.tar.gz (27 kB)\r\n",
      "  Preparing metadata (setup.py) ... \u001b[?25l-\b \bdone\r\n",
      "\u001b[?25hRequirement already satisfied: protobuf>=3.9.2 in /opt/conda/lib/python3.7/site-packages (from tensorflow>=2.0.0->talos) (3.19.4)\r\n",
      "Requirement already satisfied: clang~=5.0 in /opt/conda/lib/python3.7/site-packages (from tensorflow>=2.0.0->talos) (5.0)\r\n",
      "Requirement already satisfied: seaborn in /opt/conda/lib/python3.7/site-packages (from astetik->talos) (0.11.2)\r\n",
      "Collecting geonamescache\r\n",
      "  Downloading geonamescache-1.3.0-py3-none-any.whl (2.6 MB)\r\n",
      "     |████████████████████████████████| 2.6 MB 55.3 MB/s            \r\n",
      "\u001b[?25hRequirement already satisfied: IPython in /opt/conda/lib/python3.7/site-packages (from astetik->talos) (7.30.1)\r\n",
      "Requirement already satisfied: matplotlib in /opt/conda/lib/python3.7/site-packages (from kerasplotlib->talos) (3.5.1)\r\n",
      "Requirement already satisfied: urllib3<1.27,>=1.21.1 in /opt/conda/lib/python3.7/site-packages (from requests->talos) (1.26.7)\r\n",
      "Requirement already satisfied: idna<4,>=2.5 in /opt/conda/lib/python3.7/site-packages (from requests->talos) (3.1)\r\n",
      "Requirement already satisfied: charset-normalizer~=2.0.0 in /opt/conda/lib/python3.7/site-packages (from requests->talos) (2.0.9)\r\n",
      "Requirement already satisfied: certifi>=2017.4.17 in /opt/conda/lib/python3.7/site-packages (from requests->talos) (2021.10.8)\r\n",
      "Requirement already satisfied: scikit-learn in /opt/conda/lib/python3.7/site-packages (from sklearn->talos) (1.0.1)\r\n",
      "Requirement already satisfied: cached-property in /opt/conda/lib/python3.7/site-packages (from h5py~=3.1.0->tensorflow>=2.0.0->talos) (1.5.2)\r\n",
      "Requirement already satisfied: setuptools>=41.0.0 in /opt/conda/lib/python3.7/site-packages (from tensorboard<2.7,>=2.6.0->tensorflow>=2.0.0->talos) (59.5.0)\r\n",
      "Requirement already satisfied: werkzeug>=0.11.15 in /opt/conda/lib/python3.7/site-packages (from tensorboard<2.7,>=2.6.0->tensorflow>=2.0.0->talos) (2.0.2)\r\n",
      "Requirement already satisfied: google-auth-oauthlib<0.5,>=0.4.1 in /opt/conda/lib/python3.7/site-packages (from tensorboard<2.7,>=2.6.0->tensorflow>=2.0.0->talos) (0.4.6)\r\n",
      "Requirement already satisfied: google-auth<2,>=1.6.3 in /opt/conda/lib/python3.7/site-packages (from tensorboard<2.7,>=2.6.0->tensorflow>=2.0.0->talos) (1.35.0)\r\n",
      "Requirement already satisfied: tensorboard-plugin-wit>=1.6.0 in /opt/conda/lib/python3.7/site-packages (from tensorboard<2.7,>=2.6.0->tensorflow>=2.0.0->talos) (1.8.0)\r\n",
      "Requirement already satisfied: tensorboard-data-server<0.7.0,>=0.6.0 in /opt/conda/lib/python3.7/site-packages (from tensorboard<2.7,>=2.6.0->tensorflow>=2.0.0->talos) (0.6.1)\r\n",
      "Requirement already satisfied: markdown>=2.6.8 in /opt/conda/lib/python3.7/site-packages (from tensorboard<2.7,>=2.6.0->tensorflow>=2.0.0->talos) (3.3.6)\r\n",
      "Requirement already satisfied: decorator in /opt/conda/lib/python3.7/site-packages (from IPython->astetik->talos) (5.1.0)\r\n",
      "Requirement already satisfied: pickleshare in /opt/conda/lib/python3.7/site-packages (from IPython->astetik->talos) (0.7.5)\r\n",
      "Requirement already satisfied: traitlets>=4.2 in /opt/conda/lib/python3.7/site-packages (from IPython->astetik->talos) (5.1.1)\r\n",
      "Requirement already satisfied: matplotlib-inline in /opt/conda/lib/python3.7/site-packages (from IPython->astetik->talos) (0.1.3)\r\n",
      "Requirement already satisfied: prompt-toolkit!=3.0.0,!=3.0.1,<3.1.0,>=2.0.0 in /opt/conda/lib/python3.7/site-packages (from IPython->astetik->talos) (3.0.24)\r\n",
      "Requirement already satisfied: pexpect>4.3 in /opt/conda/lib/python3.7/site-packages (from IPython->astetik->talos) (4.8.0)\r\n",
      "Requirement already satisfied: backcall in /opt/conda/lib/python3.7/site-packages (from IPython->astetik->talos) (0.2.0)\r\n",
      "Requirement already satisfied: jedi>=0.16 in /opt/conda/lib/python3.7/site-packages (from IPython->astetik->talos) (0.18.1)\r\n",
      "Requirement already satisfied: pygments in /opt/conda/lib/python3.7/site-packages (from IPython->astetik->talos) (2.10.0)\r\n",
      "Requirement already satisfied: fonttools>=4.22.0 in /opt/conda/lib/python3.7/site-packages (from matplotlib->kerasplotlib->talos) (4.28.4)\r\n",
      "Requirement already satisfied: pyparsing>=2.2.1 in /opt/conda/lib/python3.7/site-packages (from matplotlib->kerasplotlib->talos) (3.0.6)\r\n",
      "Requirement already satisfied: kiwisolver>=1.0.1 in /opt/conda/lib/python3.7/site-packages (from matplotlib->kerasplotlib->talos) (1.3.2)\r\n",
      "Requirement already satisfied: cycler>=0.10 in /opt/conda/lib/python3.7/site-packages (from matplotlib->kerasplotlib->talos) (0.11.0)\r\n",
      "Requirement already satisfied: pillow>=6.2.0 in /opt/conda/lib/python3.7/site-packages (from matplotlib->kerasplotlib->talos) (8.2.0)\r\n",
      "Requirement already satisfied: packaging>=20.0 in /opt/conda/lib/python3.7/site-packages (from matplotlib->kerasplotlib->talos) (21.3)\r\n",
      "Requirement already satisfied: joblib>=0.11 in /opt/conda/lib/python3.7/site-packages (from scikit-learn->sklearn->talos) (1.1.0)\r\n",
      "Requirement already satisfied: threadpoolctl>=2.0.0 in /opt/conda/lib/python3.7/site-packages (from scikit-learn->sklearn->talos) (3.0.0)\r\n",
      "Requirement already satisfied: pyasn1-modules>=0.2.1 in /opt/conda/lib/python3.7/site-packages (from google-auth<2,>=1.6.3->tensorboard<2.7,>=2.6.0->tensorflow>=2.0.0->talos) (0.2.7)\r\n",
      "Requirement already satisfied: cachetools<5.0,>=2.0.0 in /opt/conda/lib/python3.7/site-packages (from google-auth<2,>=1.6.3->tensorboard<2.7,>=2.6.0->tensorflow>=2.0.0->talos) (4.2.4)\r\n",
      "Requirement already satisfied: rsa<5,>=3.1.4 in /opt/conda/lib/python3.7/site-packages (from google-auth<2,>=1.6.3->tensorboard<2.7,>=2.6.0->tensorflow>=2.0.0->talos) (4.8)\r\n",
      "Requirement already satisfied: requests-oauthlib>=0.7.0 in /opt/conda/lib/python3.7/site-packages (from google-auth-oauthlib<0.5,>=0.4.1->tensorboard<2.7,>=2.6.0->tensorflow>=2.0.0->talos) (1.3.0)\r\n",
      "Requirement already satisfied: parso<0.9.0,>=0.8.0 in /opt/conda/lib/python3.7/site-packages (from jedi>=0.16->IPython->astetik->talos) (0.8.3)\r\n",
      "Requirement already satisfied: importlib-metadata>=4.4 in /opt/conda/lib/python3.7/site-packages (from markdown>=2.6.8->tensorboard<2.7,>=2.6.0->tensorflow>=2.0.0->talos) (4.11.3)\r\n",
      "Requirement already satisfied: ptyprocess>=0.5 in /opt/conda/lib/python3.7/site-packages (from pexpect>4.3->IPython->astetik->talos) (0.7.0)\r\n",
      "Requirement already satisfied: wcwidth in /opt/conda/lib/python3.7/site-packages (from prompt-toolkit!=3.0.0,!=3.0.1,<3.1.0,>=2.0.0->IPython->astetik->talos) (0.2.5)\r\n",
      "Requirement already satisfied: zipp>=0.5 in /opt/conda/lib/python3.7/site-packages (from importlib-metadata>=4.4->markdown>=2.6.8->tensorboard<2.7,>=2.6.0->tensorflow>=2.0.0->talos) (3.6.0)\r\n",
      "Requirement already satisfied: pyasn1<0.5.0,>=0.4.6 in /opt/conda/lib/python3.7/site-packages (from pyasn1-modules>=0.2.1->google-auth<2,>=1.6.3->tensorboard<2.7,>=2.6.0->tensorflow>=2.0.0->talos) (0.4.8)\r\n",
      "Requirement already satisfied: oauthlib>=3.0.0 in /opt/conda/lib/python3.7/site-packages (from requests-oauthlib>=0.7.0->google-auth-oauthlib<0.5,>=0.4.1->tensorboard<2.7,>=2.6.0->tensorflow>=2.0.0->talos) (3.1.1)\r\n",
      "Building wheels for collected packages: chances, wrapt\r\n",
      "  Building wheel for chances (setup.py) ... \u001b[?25l-\b \b\\\b \bdone\r\n",
      "\u001b[?25h  Created wheel for chances: filename=chances-0.1.9-py3-none-any.whl size=41609 sha256=a0716d0e10346f9a77d4aeeb299df14459307b33b8387e3bd05deb7ed2fc4d02\r\n",
      "  Stored in directory: /root/.cache/pip/wheels/f3/2e/7e/316f7da11ccf2195ff05e4a0186a4b5975be9bd0b0004198b6\r\n",
      "  Building wheel for wrapt (setup.py) ... \u001b[?25l-\b \b\\\b \b|\b \bdone\r\n",
      "\u001b[?25h  Created wheel for wrapt: filename=wrapt-1.12.1-cp37-cp37m-linux_x86_64.whl size=77046 sha256=34c69d06e40fdb7abc97abbe22d293dc48c8abf6877a6e44aace3c1e31b1b8ae\r\n",
      "  Stored in directory: /root/.cache/pip/wheels/62/76/4c/aa25851149f3f6d9785f6c869387ad82b3fd37582fa8147ac6\r\n",
      "Successfully built chances wrapt\r\n",
      "Installing collected packages: typing-extensions, six, numpy, wrapt, wrangle, geonamescache, kerasplotlib, chances, astetik, talos\r\n",
      "  Attempting uninstall: typing-extensions\r\n",
      "    Found existing installation: typing-extensions 4.1.1\r\n",
      "    Uninstalling typing-extensions-4.1.1:\r\n",
      "      Successfully uninstalled typing-extensions-4.1.1\r\n",
      "  Attempting uninstall: six\r\n",
      "    Found existing installation: six 1.16.0\r\n",
      "    Uninstalling six-1.16.0:\r\n",
      "      Successfully uninstalled six-1.16.0\r\n",
      "  Attempting uninstall: numpy\r\n",
      "    Found existing installation: numpy 1.20.3\r\n",
      "    Uninstalling numpy-1.20.3:\r\n",
      "      Successfully uninstalled numpy-1.20.3\r\n",
      "  Attempting uninstall: wrapt\r\n",
      "    Found existing installation: wrapt 1.13.3\r\n",
      "    Uninstalling wrapt-1.13.3:\r\n",
      "      Successfully uninstalled wrapt-1.13.3\r\n",
      "\u001b[31mERROR: pip's dependency resolver does not currently take into account all the packages that are installed. This behaviour is the source of the following dependency conflicts.\r\n",
      "tensorflow-io 0.21.0 requires tensorflow-io-gcs-filesystem==0.21.0, which is not installed.\r\n",
      "explainable-ai-sdk 1.3.2 requires xai-image-widget, which is not installed.\r\n",
      "beatrix-jupyterlab 3.1.6 requires google-cloud-bigquery-storage, which is not installed.\r\n",
      "tfx-bsl 1.5.0 requires absl-py<0.13,>=0.9, but you have absl-py 0.15.0 which is incompatible.\r\n",
      "tfx-bsl 1.5.0 requires pyarrow<6,>=1, but you have pyarrow 6.0.1 which is incompatible.\r\n",
      "tfx-bsl 1.5.0 requires tensorflow!=2.0.*,!=2.1.*,!=2.2.*,!=2.3.*,!=2.4.*,!=2.5.*,!=2.6.*,<3,>=1.15.2, but you have tensorflow 2.6.2 which is incompatible.\r\n",
      "tensorflow-transform 1.5.0 requires absl-py<0.13,>=0.9, but you have absl-py 0.15.0 which is incompatible.\r\n",
      "tensorflow-transform 1.5.0 requires pyarrow<6,>=1, but you have pyarrow 6.0.1 which is incompatible.\r\n",
      "tensorflow-transform 1.5.0 requires tensorflow!=2.0.*,!=2.1.*,!=2.2.*,!=2.3.*,!=2.4.*,!=2.5.*,!=2.6.*,<2.8,>=1.15.2, but you have tensorflow 2.6.2 which is incompatible.\r\n",
      "tensorflow-serving-api 2.7.0 requires tensorflow<3,>=2.7.0, but you have tensorflow 2.6.2 which is incompatible.\r\n",
      "pdpbox 0.2.1 requires matplotlib==3.1.1, but you have matplotlib 3.5.1 which is incompatible.\r\n",
      "optax 0.1.1 requires typing-extensions>=3.10.0, but you have typing-extensions 3.7.4.3 which is incompatible.\r\n",
      "gcsfs 2021.11.1 requires fsspec==2021.11.1, but you have fsspec 2022.2.0 which is incompatible.\r\n",
      "flake8 4.0.1 requires importlib-metadata<4.3; python_version < \"3.8\", but you have importlib-metadata 4.11.3 which is incompatible.\r\n",
      "featuretools 1.6.0 requires numpy>=1.21.0, but you have numpy 1.19.5 which is incompatible.\r\n",
      "cloud-tpu-client 0.10 requires google-api-python-client==1.8.0, but you have google-api-python-client 1.12.11 which is incompatible.\r\n",
      "bokeh 2.4.2 requires typing-extensions>=3.10.0, but you have typing-extensions 3.7.4.3 which is incompatible.\r\n",
      "black 21.12b0 requires typing-extensions>=3.10.0.0, but you have typing-extensions 3.7.4.3 which is incompatible.\r\n",
      "apache-beam 2.34.0 requires dill<0.3.2,>=0.3.1.1, but you have dill 0.3.4 which is incompatible.\r\n",
      "apache-beam 2.34.0 requires httplib2<0.20.0,>=0.8, but you have httplib2 0.20.2 which is incompatible.\r\n",
      "apache-beam 2.34.0 requires pyarrow<6.0.0,>=0.15.1, but you have pyarrow 6.0.1 which is incompatible.\r\n",
      "aioitertools 0.10.0 requires typing_extensions>=4.0; python_version < \"3.10\", but you have typing-extensions 3.7.4.3 which is incompatible.\r\n",
      "aiobotocore 2.1.2 requires botocore<1.23.25,>=1.23.24, but you have botocore 1.24.20 which is incompatible.\u001b[0m\r\n",
      "Successfully installed astetik-1.11.1 chances-0.1.9 geonamescache-1.3.0 kerasplotlib-0.2.1 numpy-1.19.5 six-1.15.0 talos-1.0.2 typing-extensions-3.7.4.3 wrangle-0.6.11 wrapt-1.12.1\r\n",
      "\u001b[33mWARNING: Running pip as the 'root' user can result in broken permissions and conflicting behaviour with the system package manager. It is recommended to use a virtual environment instead: https://pip.pypa.io/warnings/venv\u001b[0m\r\n",
      "Note: you may need to restart the kernel to use updated packages.\n"
     ]
    }
   ],
   "source": [
    "pip install talos\n"
   ]
  },
  {
   "cell_type": "code",
   "execution_count": 3,
   "id": "36f14521",
   "metadata": {
    "execution": {
     "iopub.execute_input": "2022-04-01T13:41:09.229966Z",
     "iopub.status.busy": "2022-04-01T13:41:09.229310Z",
     "iopub.status.idle": "2022-04-01T13:41:15.421472Z",
     "shell.execute_reply": "2022-04-01T13:41:15.421951Z",
     "shell.execute_reply.started": "2022-04-01T10:56:55.943207Z"
    },
    "papermill": {
     "duration": 6.24413,
     "end_time": "2022-04-01T13:41:15.422120",
     "exception": false,
     "start_time": "2022-04-01T13:41:09.177990",
     "status": "completed"
    },
    "tags": []
   },
   "outputs": [],
   "source": [
    "import pandas as pd\n",
    "import numpy as np\n",
    "import seaborn as sns\n",
    "from sklearn import linear_model\n",
    "from sklearn.model_selection import train_test_split\n",
    "from matplotlib import pyplot as plt\n",
    "from scipy import stats\n",
    "from sklearn.decomposition import PCA\n",
    "from sklearn.preprocessing import StandardScaler\n",
    "from sklearn.preprocessing import scale\n",
    "\n",
    "# keres modules\n",
    "from keras import regularizers\n",
    "from keras.models import Sequential, load_model\n",
    "from keras.layers import Dense, Activation, Dropout\n",
    "from keras.layers import Flatten, Conv1D, MaxPooling1D\n",
    "from keras.activations import relu, elu, linear, softmax\n",
    "from keras.callbacks import EarlyStopping, Callback\n",
    "from keras.wrappers.scikit_learn import KerasRegressor\n",
    "from tensorflow.keras.optimizers import Adam # - Works\n",
    "\n",
    "from keras.losses import mean_squared_error, categorical_crossentropy, logcosh\n",
    "from keras.utils.np_utils import to_categorical\n",
    "\n"
   ]
  },
  {
   "cell_type": "markdown",
   "id": "b4cab054",
   "metadata": {
    "papermill": {
     "duration": 0.044466,
     "end_time": "2022-04-01T13:41:15.511459",
     "exception": false,
     "start_time": "2022-04-01T13:41:15.466993",
     "status": "completed"
    },
    "tags": []
   },
   "source": [
    "**Matrix Y contains the average grain yield, column 1: Grain yield for environment 1 and so on.**\n",
    "\n",
    "**Matrix X contains marker genotypes.**\n"
   ]
  },
  {
   "cell_type": "code",
   "execution_count": 4,
   "id": "2983af9c",
   "metadata": {
    "execution": {
     "iopub.execute_input": "2022-04-01T13:41:15.605183Z",
     "iopub.status.busy": "2022-04-01T13:41:15.604547Z",
     "iopub.status.idle": "2022-04-01T13:41:15.799635Z",
     "shell.execute_reply": "2022-04-01T13:41:15.798928Z",
     "shell.execute_reply.started": "2022-04-01T11:08:56.143611Z"
    },
    "papermill": {
     "duration": 0.242016,
     "end_time": "2022-04-01T13:41:15.799780",
     "exception": false,
     "start_time": "2022-04-01T13:41:15.557764",
     "status": "completed"
    },
    "tags": []
   },
   "outputs": [],
   "source": [
    "# load data as a pandas dataframe\n",
    "X = pd.read_csv('/kaggle/input/genomicselection-data-weat/DATA/wheat.X', header=None, sep='\\s+')\n",
    "Y = pd.read_csv('/kaggle/input/genomicselection-data-weat/DATA/wheat.Y', header=None, sep='\\s+')"
   ]
  },
  {
   "cell_type": "code",
   "execution_count": 5,
   "id": "d3f7862d",
   "metadata": {
    "execution": {
     "iopub.execute_input": "2022-04-01T13:41:15.897331Z",
     "iopub.status.busy": "2022-04-01T13:41:15.896557Z",
     "iopub.status.idle": "2022-04-01T13:41:15.909123Z",
     "shell.execute_reply": "2022-04-01T13:41:15.909756Z",
     "shell.execute_reply.started": "2022-04-01T11:28:35.405458Z"
    },
    "papermill": {
     "duration": 0.065012,
     "end_time": "2022-04-01T13:41:15.910213",
     "exception": false,
     "start_time": "2022-04-01T13:41:15.845201",
     "status": "completed"
    },
    "tags": []
   },
   "outputs": [
    {
     "name": "stdout",
     "output_type": "stream",
     "text": [
      "   0     1     2     3     4     5     6     7     8     9     ...  1269  \\\n",
      "0     0     1     1     1     1     0     1     1     1     1  ...     1   \n",
      "1     1     1     1     1     1     0     1     1     0     1  ...     1   \n",
      "2     1     1     1     1     1     0     1     1     0     1  ...     1   \n",
      "3     0     1     1     1     1     0     1     1     1     1  ...     1   \n",
      "4     0     1     1     1     1     0     1     1     1     1  ...     1   \n",
      "5     1     1     1     1     1     0     1     1     1     1  ...     1   \n",
      "6     1     1     1     1     1     0     1     1     0     1  ...     1   \n",
      "7     1     1     0     1     1     0     0     1     1     1  ...     1   \n",
      "8     0     1     0     1     1     0     1     1     0     1  ...     1   \n",
      "9     0     0     0     1     1     0     1     1     1     1  ...     1   \n",
      "\n",
      "   1270  1271  1272  1273  1274  1275  1276  1277  1278  \n",
      "0     0     1     1     1     0     0     0     0     1  \n",
      "1     1     0     0     0     0     1     1     1     1  \n",
      "2     1     0     0     0     0     1     1     1     1  \n",
      "3     1     1     1     0     0     1     0     1     0  \n",
      "4     1     1     1     1     0     0     0     1     1  \n",
      "5     0     1     1     0     0     0     0     1     1  \n",
      "6     0     1     1     0     0     0     0     1     1  \n",
      "7     1     1     1     0     0     1     1     0     0  \n",
      "8     1     1     0     0     0     0     1     1     1  \n",
      "9     0     1     0     0     0     0     1     0     1  \n",
      "\n",
      "[10 rows x 1279 columns]\n",
      "##################################################\n",
      "(599, 1279)\n"
     ]
    }
   ],
   "source": [
    "print(X.head(10))\n",
    "print('#'*50)\n",
    "print(X.shape)"
   ]
  },
  {
   "cell_type": "code",
   "execution_count": 6,
   "id": "d4b62f0b",
   "metadata": {
    "execution": {
     "iopub.execute_input": "2022-04-01T13:41:16.005612Z",
     "iopub.status.busy": "2022-04-01T13:41:16.004755Z",
     "iopub.status.idle": "2022-04-01T13:41:16.013600Z",
     "shell.execute_reply": "2022-04-01T13:41:16.012857Z",
     "shell.execute_reply.started": "2022-04-01T11:28:16.731784Z"
    },
    "papermill": {
     "duration": 0.05698,
     "end_time": "2022-04-01T13:41:16.013790",
     "exception": false,
     "start_time": "2022-04-01T13:41:15.956810",
     "status": "completed"
    },
    "tags": []
   },
   "outputs": [
    {
     "name": "stdout",
     "output_type": "stream",
     "text": [
      "          0         1         2         3\n",
      "0  1.671629 -1.727470 -1.890285  0.050916\n",
      "1 -0.252703  0.409522  0.309386 -1.738759\n",
      "2  0.341815 -0.648626 -0.799559 -1.053569\n",
      "3  0.785439  0.093949  0.570468  0.551757\n",
      "4  0.998318 -0.282481  1.618682 -0.114285\n",
      "5  2.336097  0.626476  0.073533  0.719586\n",
      "6  0.617411 -0.313592  0.054326  0.003354\n",
      "7  0.647218 -0.424041 -0.708083  0.964327\n",
      "8 -0.967639 -1.789263 -1.936040 -1.502758\n",
      "9 -1.050823 -1.617623 -1.987209 -0.562404\n",
      "##################################################\n",
      "(599, 4)\n"
     ]
    }
   ],
   "source": [
    "print(Y.head(10))\n",
    "print('#'*50)\n",
    "print(Y.shape)"
   ]
  },
  {
   "cell_type": "code",
   "execution_count": 7,
   "id": "92646aac",
   "metadata": {
    "execution": {
     "iopub.execute_input": "2022-04-01T13:41:16.109999Z",
     "iopub.status.busy": "2022-04-01T13:41:16.108995Z",
     "iopub.status.idle": "2022-04-01T13:41:16.126844Z",
     "shell.execute_reply": "2022-04-01T13:41:16.127330Z",
     "shell.execute_reply.started": "2022-04-01T13:37:36.528022Z"
    },
    "papermill": {
     "duration": 0.067176,
     "end_time": "2022-04-01T13:41:16.127499",
     "exception": false,
     "start_time": "2022-04-01T13:41:16.060323",
     "status": "completed"
    },
    "tags": []
   },
   "outputs": [
    {
     "name": "stdout",
     "output_type": "stream",
     "text": [
      "(479, 1279) (479,)\n",
      "(120, 1279) (120,)\n"
     ]
    }
   ],
   "source": [
    "# data pattitioning into train and validation \n",
    "itrait=1\n",
    "X_train, X_test, y_train, y_test = train_test_split(X, Y[itrait], test_size=0.2)\n",
    "print(X_train.shape, y_train.shape)\n",
    "print(X_test.shape, y_test.shape)"
   ]
  },
  {
   "cell_type": "code",
   "execution_count": 8,
   "id": "b105dd94",
   "metadata": {
    "execution": {
     "iopub.execute_input": "2022-04-01T13:41:16.222191Z",
     "iopub.status.busy": "2022-04-01T13:41:16.221336Z",
     "iopub.status.idle": "2022-04-01T13:41:16.230230Z",
     "shell.execute_reply": "2022-04-01T13:41:16.229531Z",
     "shell.execute_reply.started": "2022-04-01T11:32:06.037452Z"
    },
    "papermill": {
     "duration": 0.057582,
     "end_time": "2022-04-01T13:41:16.230439",
     "exception": false,
     "start_time": "2022-04-01T13:41:16.172857",
     "status": "completed"
    },
    "tags": []
   },
   "outputs": [
    {
     "name": "stdout",
     "output_type": "stream",
     "text": [
      "      min max mean sd\n",
      "Train:  -2.94962633054436 2.70663029696398 0.016566470061665558 1.0023619039581169\n",
      "Test:  -2.82463492534907 2.35327484796784 -0.06612782632948042 0.9919132940279246\n"
     ]
    }
   ],
   "source": [
    "# print basic statistics: max, min, mean, sd\n",
    "print('      min max mean sd')\n",
    "print('Train: ', y_train.min(), y_train.max(), y_train.mean(), np.sqrt(y_train.var()))\n",
    "print('Test: ', y_test.min(), y_test.max(), y_test.mean(), np.sqrt(y_test.var()))\n"
   ]
  },
  {
   "cell_type": "code",
   "execution_count": 9,
   "id": "d34192d0",
   "metadata": {
    "execution": {
     "iopub.execute_input": "2022-04-01T13:41:16.327050Z",
     "iopub.status.busy": "2022-04-01T13:41:16.326495Z",
     "iopub.status.idle": "2022-04-01T13:41:16.603383Z",
     "shell.execute_reply": "2022-04-01T13:41:16.604664Z",
     "shell.execute_reply.started": "2022-04-01T11:33:54.750669Z"
    },
    "papermill": {
     "duration": 0.328059,
     "end_time": "2022-04-01T13:41:16.604973",
     "exception": false,
     "start_time": "2022-04-01T13:41:16.276914",
     "status": "completed"
    },
    "tags": []
   },
   "outputs": [
    {
     "data": {
      "image/png": "[encoded data removed]",
      "text/plain": [
       "<Figure size 432x288 with 1 Axes>"
      ]
     },
     "metadata": {
      "needs_background": "light"
     },
     "output_type": "display_data"
    }
   ],
   "source": [
    "# basic histograms\n",
    "plt.title('train / test data')\n",
    "plt.hist(y_train, label='Train')\n",
    "plt.hist(y_test, label='Test')\n",
    "plt.legend(loc='best')\n",
    "plt.show()"
   ]
  },
  {
   "cell_type": "markdown",
   "id": "b9bb0f7c",
   "metadata": {
    "papermill": {
     "duration": 0.046499,
     "end_time": "2022-04-01T13:41:16.709172",
     "exception": false,
     "start_time": "2022-04-01T13:41:16.662673",
     "status": "completed"
    },
    "tags": []
   },
   "source": [
    "**Marker PCA, use whole x with different color for train and test**"
   ]
  },
  {
   "cell_type": "code",
   "execution_count": 10,
   "id": "81b261f3",
   "metadata": {
    "execution": {
     "iopub.execute_input": "2022-04-01T13:41:16.806106Z",
     "iopub.status.busy": "2022-04-01T13:41:16.805156Z",
     "iopub.status.idle": "2022-04-01T13:41:17.408571Z",
     "shell.execute_reply": "2022-04-01T13:41:17.408047Z",
     "shell.execute_reply.started": "2022-04-01T11:44:12.287290Z"
    },
    "papermill": {
     "duration": 0.652708,
     "end_time": "2022-04-01T13:41:17.408713",
     "exception": false,
     "start_time": "2022-04-01T13:41:16.756005",
     "status": "completed"
    },
    "tags": []
   },
   "outputs": [
    {
     "data": {
      "image/png": "[encoded data removed]",
      "text/plain": [
       "<Figure size 432x288 with 1 Axes>"
      ]
     },
     "metadata": {
      "needs_background": "light"
     },
     "output_type": "display_data"
    }
   ],
   "source": [
    "X = np.concatenate((X_train, X_test))\n",
    "pca = PCA(n_components=2)\n",
    "p = pca.fit(X).fit_transform(X)\n",
    "Ntrain=X_train.shape[0]\n",
    "plt.title('PCA decomposition')\n",
    "plt.scatter(p[0:Ntrain,0], p[0:Ntrain,1], label='Train')\n",
    "plt.scatter(p[Ntrain:,0], p[Ntrain:,1], label='Test', color='orange')\n",
    "plt.legend(loc='best')\n",
    "plt.show()"
   ]
  },
  {
   "cell_type": "markdown",
   "id": "5d04e5ab",
   "metadata": {
    "papermill": {
     "duration": 0.05036,
     "end_time": "2022-04-01T13:41:17.515429",
     "exception": false,
     "start_time": "2022-04-01T13:41:17.465069",
     "status": "completed"
    },
    "tags": []
   },
   "source": [
    "**SNP preselection according to a simple GWAS**\n"
   ]
  },
  {
   "cell_type": "code",
   "execution_count": 11,
   "id": "5f9187ed",
   "metadata": {
    "execution": {
     "iopub.execute_input": "2022-04-01T13:41:17.636507Z",
     "iopub.status.busy": "2022-04-01T13:41:17.635515Z",
     "iopub.status.idle": "2022-04-01T13:41:18.300313Z",
     "shell.execute_reply": "2022-04-01T13:41:18.299824Z",
     "shell.execute_reply.started": "2022-04-01T11:59:53.775799Z"
    },
    "papermill": {
     "duration": 0.729986,
     "end_time": "2022-04-01T13:41:18.300455",
     "exception": false,
     "start_time": "2022-04-01T13:41:17.570469",
     "status": "completed"
    },
    "tags": []
   },
   "outputs": [
    {
     "data": {
      "image/png": "[encoded data removed]",
      "text/plain": [
       "<Figure size 432x288 with 1 Axes>"
      ]
     },
     "metadata": {
      "needs_background": "light"
     },
     "output_type": "display_data"
    }
   ],
   "source": [
    "pvals = []\n",
    "for i in range(X_train.shape[1]):\n",
    "    b, intercept, r_value, p_value, std_err = stats.linregress(X_train[i], y_train)\n",
    "    pvals.append(-np.log10(p_value))\n",
    "pvals = np.array(pvals)    \n",
    "\n",
    "# plot GWAS\n",
    "plt.ylabel('-log10 p-value')\n",
    "plt.xlabel('SNP')\n",
    "plt.plot(pvals, marker='o', color='red')\n",
    "plt.show()\n",
    "\n",
    "# select N_best most associated SNPs\n",
    "# N_best = X_train.shape[1] # all SNPs\n",
    "N_best = 100\n",
    "snp_list = pvals.argsort()[-N_best:]\n",
    "\n",
    "# select by min P_value\n",
    "min_p_value = 2 \n",
    "snp_list = np.nonzero(pvals>min_p_value)\n",
    "\n"
   ]
  },
  {
   "cell_type": "markdown",
   "id": "50cb0a1b",
   "metadata": {
    "papermill": {
     "duration": 0.048443,
     "end_time": "2022-04-01T13:41:18.399147",
     "exception": false,
     "start_time": "2022-04-01T13:41:18.350704",
     "status": "completed"
    },
    "tags": []
   },
   "source": [
    "**Standard penalized methods**\n",
    "**lasso using scikit-learn**\n"
   ]
  },
  {
   "cell_type": "code",
   "execution_count": 12,
   "id": "24897609",
   "metadata": {
    "execution": {
     "iopub.execute_input": "2022-04-01T13:41:18.500355Z",
     "iopub.status.busy": "2022-04-01T13:41:18.499687Z",
     "iopub.status.idle": "2022-04-01T13:41:18.686747Z",
     "shell.execute_reply": "2022-04-01T13:41:18.687501Z",
     "shell.execute_reply.started": "2022-04-01T12:22:53.969288Z"
    },
    "papermill": {
     "duration": 0.239576,
     "end_time": "2022-04-01T13:41:18.687752",
     "exception": false,
     "start_time": "2022-04-01T13:41:18.448176",
     "status": "completed"
    },
    "tags": []
   },
   "outputs": [
    {
     "name": "stdout",
     "output_type": "stream",
     "text": [
      "\n",
      "MSE in prediction= tf.Tensor(0.7256796222925578, shape=(), dtype=float64)\n",
      "\n",
      "Corr obs vs pred = 0.5106583664754683\n"
     ]
    },
    {
     "name": "stderr",
     "output_type": "stream",
     "text": [
      "2022-04-01 13:41:18.639829: I tensorflow/core/common_runtime/process_util.cc:146] Creating new thread pool with default inter op setting: 2. Tune using inter_op_parallelism_threads for best performance.\n"
     ]
    }
   ],
   "source": [
    "# alpha is regularization parameter\n",
    "lasso = linear_model.Lasso(alpha=0.01)\n",
    "lasso.fit(X_train, y_train)\n",
    "y_hat = lasso.predict(X_test)\n",
    "\n",
    "# mean squared error\n",
    "mse = mean_squared_error(y_test, y_hat)\n",
    "print('\\nMSE in prediction=', mse)\n",
    "\n",
    "# correlation btw predicted and observed\n",
    "corr = np.corrcoef(y_test,y_hat)[0,1]\n",
    "print('\\nCorr obs vs pred =', corr)\n",
    "\n"
   ]
  },
  {
   "cell_type": "code",
   "execution_count": 13,
   "id": "d16257c3",
   "metadata": {
    "execution": {
     "iopub.execute_input": "2022-04-01T13:41:18.830603Z",
     "iopub.status.busy": "2022-04-01T13:41:18.829966Z",
     "iopub.status.idle": "2022-04-01T13:41:19.034766Z",
     "shell.execute_reply": "2022-04-01T13:41:19.035774Z",
     "shell.execute_reply.started": "2022-04-01T12:39:31.793638Z"
    },
    "papermill": {
     "duration": 0.262578,
     "end_time": "2022-04-01T13:41:19.036218",
     "exception": false,
     "start_time": "2022-04-01T13:41:18.773640",
     "status": "completed"
    },
    "tags": []
   },
   "outputs": [
    {
     "data": {
      "image/png": "[encoded data removed]",
      "text/plain": [
       "<Figure size 432x288 with 1 Axes>"
      ]
     },
     "metadata": {},
     "output_type": "display_data"
    }
   ],
   "source": [
    "%matplotlib inline\n",
    "import matplotlib.pyplot as plt\n",
    "plt.style.use('seaborn-whitegrid')\n",
    "\n",
    "# plot observed vs predicted targets\n",
    "plt.title('Lasso: observed vs predicted Y')\n",
    "plt.ylabel('Predicted')\n",
    "plt.xlabel('Observed')\n",
    "plt.scatter(y_test, y_hat, marker='o', cmap='viridis', alpha=0.3)\n",
    "plt.show()"
   ]
  },
  {
   "cell_type": "markdown",
   "id": "b099733b",
   "metadata": {
    "papermill": {
     "duration": 0.050209,
     "end_time": "2022-04-01T13:41:19.152091",
     "exception": false,
     "start_time": "2022-04-01T13:41:19.101882",
     "status": "completed"
    },
    "tags": []
   },
   "source": [
    "**Implements a standard fully connected neural network for quantitative targets**"
   ]
  },
  {
   "cell_type": "code",
   "execution_count": 14,
   "id": "f73950c0",
   "metadata": {
    "execution": {
     "iopub.execute_input": "2022-04-01T13:41:19.255026Z",
     "iopub.status.busy": "2022-04-01T13:41:19.254459Z",
     "iopub.status.idle": "2022-04-01T13:41:19.258820Z",
     "shell.execute_reply": "2022-04-01T13:41:19.259341Z",
     "shell.execute_reply.started": "2022-04-01T13:35:02.989830Z"
    },
    "papermill": {
     "duration": 0.057491,
     "end_time": "2022-04-01T13:41:19.259505",
     "exception": false,
     "start_time": "2022-04-01T13:41:19.202014",
     "status": "completed"
    },
    "tags": []
   },
   "outputs": [
    {
     "data": {
      "text/plain": [
       "1279"
      ]
     },
     "execution_count": 14,
     "metadata": {},
     "output_type": "execute_result"
    }
   ],
   "source": [
    "# number of SNPs in data\n",
    "nSNP = X_train.shape[1]\n",
    "nSNP"
   ]
  },
  {
   "cell_type": "code",
   "execution_count": 15,
   "id": "ab012dd0",
   "metadata": {
    "execution": {
     "iopub.execute_input": "2022-04-01T13:41:19.365986Z",
     "iopub.status.busy": "2022-04-01T13:41:19.365353Z",
     "iopub.status.idle": "2022-04-01T13:41:21.444692Z",
     "shell.execute_reply": "2022-04-01T13:41:21.444185Z",
     "shell.execute_reply.started": "2022-04-01T13:02:49.045322Z"
    },
    "papermill": {
     "duration": 2.134257,
     "end_time": "2022-04-01T13:41:21.444832",
     "exception": false,
     "start_time": "2022-04-01T13:41:19.310575",
     "status": "completed"
    },
    "tags": []
   },
   "outputs": [
    {
     "name": "stdout",
     "output_type": "stream",
     "text": [
      "Model: \"sequential\"\n",
      "_________________________________________________________________\n",
      "Layer (type)                 Output Shape              Param #   \n",
      "=================================================================\n",
      "dense (Dense)                (None, 64)                81920     \n",
      "_________________________________________________________________\n",
      "activation (Activation)      (None, 64)                0         \n",
      "_________________________________________________________________\n",
      "dense_1 (Dense)              (None, 32)                2080      \n",
      "_________________________________________________________________\n",
      "activation_1 (Activation)    (None, 32)                0         \n",
      "_________________________________________________________________\n",
      "dense_2 (Dense)              (None, 1)                 33        \n",
      "=================================================================\n",
      "Total params: 84,033\n",
      "Trainable params: 84,033\n",
      "Non-trainable params: 0\n",
      "_________________________________________________________________\n",
      "Epoch 1/20\n"
     ]
    },
    {
     "name": "stderr",
     "output_type": "stream",
     "text": [
      "2022-04-01 13:41:19.543979: I tensorflow/compiler/mlir/mlir_graph_optimization_pass.cc:185] None of the MLIR Optimization Passes are enabled (registered 2)\n"
     ]
    },
    {
     "name": "stdout",
     "output_type": "stream",
     "text": [
      "15/15 [==============================] - 1s 2ms/step - loss: 1.1114\n",
      "Epoch 2/20\n",
      "15/15 [==============================] - 0s 2ms/step - loss: 0.9287\n",
      "Epoch 3/20\n",
      "15/15 [==============================] - 0s 2ms/step - loss: 0.9211\n",
      "Epoch 4/20\n",
      "15/15 [==============================] - 0s 2ms/step - loss: 0.9057\n",
      "Epoch 5/20\n",
      "15/15 [==============================] - 0s 2ms/step - loss: 0.8453\n",
      "Epoch 6/20\n",
      "15/15 [==============================] - 0s 2ms/step - loss: 0.8072\n",
      "Epoch 7/20\n",
      "15/15 [==============================] - 0s 2ms/step - loss: 0.7863\n",
      "Epoch 8/20\n",
      "15/15 [==============================] - 0s 2ms/step - loss: 0.7175\n",
      "Epoch 9/20\n",
      "15/15 [==============================] - 0s 2ms/step - loss: 0.7970\n",
      "Epoch 10/20\n",
      "15/15 [==============================] - 0s 2ms/step - loss: 0.7310\n",
      "Epoch 11/20\n",
      "15/15 [==============================] - 0s 2ms/step - loss: 0.6523\n",
      "Epoch 12/20\n",
      "15/15 [==============================] - 0s 2ms/step - loss: 0.7202\n",
      "Epoch 13/20\n",
      "15/15 [==============================] - 0s 2ms/step - loss: 0.6380\n",
      "Epoch 14/20\n",
      "15/15 [==============================] - 0s 2ms/step - loss: 0.6674\n",
      "Epoch 15/20\n",
      "15/15 [==============================] - 0s 2ms/step - loss: 0.6936\n",
      "Epoch 16/20\n",
      "15/15 [==============================] - 0s 2ms/step - loss: 0.6447\n",
      "Epoch 17/20\n",
      "15/15 [==============================] - 0s 2ms/step - loss: 0.6923\n",
      "Epoch 18/20\n",
      "15/15 [==============================] - 0s 2ms/step - loss: 0.6854\n",
      "Epoch 19/20\n",
      "15/15 [==============================] - 0s 2ms/step - loss: 0.6226\n",
      "Epoch 20/20\n",
      "15/15 [==============================] - 0s 2ms/step - loss: 0.5455\n",
      "1/1 [==============================] - 0s 145ms/step - loss: 0.9410\n",
      "\\MSE in prediction =  0.9409967064857483\n",
      "\\Corr obs vs pred = 0.5193934707023063\n"
     ]
    },
    {
     "data": {
      "image/png": "[encoded data removed]",
      "text/plain": [
       "<Figure size 432x288 with 1 Axes>"
      ]
     },
     "metadata": {},
     "output_type": "display_data"
    }
   ],
   "source": [
    "# Instantiate\n",
    "model = Sequential()\n",
    "\n",
    "# add first layes\n",
    "model.add(Dense(64, input_dim=nSNP))\n",
    "model.add(Activation('relu'))\n",
    "# add second layer\n",
    "model.add(Dense(32))\n",
    "model.add(Activation('softplus'))\n",
    "#last, output layer\n",
    "model.add(Dense(1))\n",
    "\n",
    "# Model Compiling (https://keras.io/models/sequential/) \n",
    "# compile(optimizer, loss=None, metrics=None, loss_weights=None, sample_weight_mode=None, weighted_metrics=None, target_tensors=None)\n",
    "# Stochastic Gradient Descent (‘sgd’) as optimization algorithm\n",
    "# Mean Squared Error as loss, ie, quantitative variable, regression\n",
    "model.compile(loss='mean_squared_error', optimizer='sgd')\n",
    "\n",
    "# list some properties\n",
    "model.summary()\n",
    "\n",
    "#tarining\n",
    "## fit(x=None, y=None, batch_size=None, epochs=1, verbose=1, callbacks=None, validation_split=0.0, validation_data=None, shuffle=True, class_weight=None, sample_weight=None, initial_epoch=0, steps_per_epoch=None, validation_steps=None, validation_freq=1)\n",
    "model.fit(X_train, y_train, epochs=20)\n",
    "\n",
    "# cross-validation: get predicted target values\n",
    "y_hat = model.predict(X_test, batch_size=128)\n",
    "\n",
    "mse_prediction = model.evaluate(X_test, y_test, batch_size=128)\n",
    "print('\\MSE in prediction = ', mse_prediction)\n",
    "\n",
    "# correlation btw predicted and observed\n",
    "corr = np.corrcoef(y_test, y_hat[:,0])[0,1]\n",
    "print('\\Corr obs vs pred =', corr)\n",
    "\n",
    "# plot observed vs predicted targets\n",
    "plt.title('MLP: observed vs predicetd Y')\n",
    "plt.ylabel('Predicted')\n",
    "plt.xlabel('Observed')\n",
    "plt.scatter(y_test, y_hat, marker='o')\n",
    "plt.show()"
   ]
  },
  {
   "cell_type": "markdown",
   "id": "0ab53b7a",
   "metadata": {
    "papermill": {
     "duration": 0.062546,
     "end_time": "2022-04-01T13:41:21.571098",
     "exception": false,
     "start_time": "2022-04-01T13:41:21.508552",
     "status": "completed"
    },
    "tags": []
   },
   "source": [
    "**Controlling overfit: regularization, dropout and early stopping**"
   ]
  },
  {
   "cell_type": "code",
   "execution_count": 16,
   "id": "607d8af4",
   "metadata": {
    "execution": {
     "iopub.execute_input": "2022-04-01T13:41:21.706170Z",
     "iopub.status.busy": "2022-04-01T13:41:21.700559Z",
     "iopub.status.idle": "2022-04-01T13:41:23.272373Z",
     "shell.execute_reply": "2022-04-01T13:41:23.271871Z",
     "shell.execute_reply.started": "2022-04-01T13:39:23.334313Z"
    },
    "papermill": {
     "duration": 1.638096,
     "end_time": "2022-04-01T13:41:23.272514",
     "exception": false,
     "start_time": "2022-04-01T13:41:21.634418",
     "status": "completed"
    },
    "tags": []
   },
   "outputs": [
    {
     "name": "stdout",
     "output_type": "stream",
     "text": [
      "Epoch 1/10\n",
      "14/14 [==============================] - 1s 21ms/step - loss: 3.0124 - val_loss: 2.5028\n",
      "Epoch 2/10\n",
      "14/14 [==============================] - 0s 5ms/step - loss: 2.7278 - val_loss: 2.5084\n",
      "Epoch 3/10\n",
      "14/14 [==============================] - 0s 5ms/step - loss: 2.6324 - val_loss: 2.4678\n",
      "Epoch 4/10\n",
      "14/14 [==============================] - 0s 5ms/step - loss: 2.5367 - val_loss: 2.3580\n",
      "Epoch 5/10\n",
      "14/14 [==============================] - 0s 5ms/step - loss: 2.5452 - val_loss: 2.5595\n",
      "Epoch 6/10\n",
      "14/14 [==============================] - 0s 5ms/step - loss: 2.5606 - val_loss: 2.3472\n",
      "Epoch 7/10\n",
      "14/14 [==============================] - 0s 5ms/step - loss: 2.4734 - val_loss: 2.3120\n",
      "Epoch 8/10\n",
      "14/14 [==============================] - 0s 5ms/step - loss: 2.3339 - val_loss: 2.2434\n",
      "Epoch 9/10\n",
      "14/14 [==============================] - 0s 5ms/step - loss: 2.3323 - val_loss: 2.2306\n",
      "Epoch 10/10\n",
      "14/14 [==============================] - 0s 5ms/step - loss: 2.2729 - val_loss: 2.2731\n",
      "1/1 [==============================] - 0s 31ms/step - loss: 2.2043\n",
      "\n",
      "MSE in prediction = 2.2042646408081055\n"
     ]
    }
   ],
   "source": [
    "# deletes current model\n",
    "del model\n",
    "\n",
    "model = Sequential()\n",
    "\n",
    "# Add l1 & l2 regularization in first layer\n",
    "model.add(Dense(64, input_dim=nSNP,\n",
    "                kernel_regularizer=regularizers.l2(0.01),\n",
    "                activity_regularizer=regularizers.l1(0.01)))\n",
    "model.add(Activation('relu'))\n",
    "# Add second layer\n",
    "model.add(Dense(32))\n",
    "model.add(Activation('softplus'))\n",
    "## Adding dropout to second layer\n",
    "model.add(Dropout(0.2))\n",
    "# Last, output layer\n",
    "model.add(Dense(1))\n",
    "\n",
    "# Model Compiling (https://keras.io/models/sequential/) \n",
    "model.compile(loss='mean_squared_error', optimizer='sgd')\n",
    "\n",
    "# Split the train set into proper train & validation\n",
    "X_train0, X_val, y_train0, y_val = train_test_split(X_train, y_train, test_size=0.1)\n",
    "nEpochs=10\n",
    "\n",
    "# Early stopping\n",
    "early_stopper = EarlyStopping(monitor='val_loss', patience=10, min_delta=0.01)\n",
    "model.fit(X_train0, y_train0, epochs=nEpochs, verbose=1, validation_data=(X_val, y_val), callbacks=[early_stopper])\n",
    "\n",
    "# cross-validation\n",
    "mse_prediction = model.evaluate(X_test, y_test, batch_size=128)\n",
    "print('\\nMSE in prediction =',mse_prediction)\n",
    "\n",
    "## In this case neither l1 nor l2 regularization helps"
   ]
  },
  {
   "cell_type": "code",
   "execution_count": null,
   "id": "6a94b092",
   "metadata": {
    "papermill": {
     "duration": 0.071971,
     "end_time": "2022-04-01T13:41:23.415344",
     "exception": false,
     "start_time": "2022-04-01T13:41:23.343373",
     "status": "completed"
    },
    "tags": []
   },
   "outputs": [],
   "source": []
  },
  {
   "cell_type": "code",
   "execution_count": null,
   "id": "c05977e3",
   "metadata": {
    "papermill": {
     "duration": 0.070583,
     "end_time": "2022-04-01T13:41:23.556974",
     "exception": false,
     "start_time": "2022-04-01T13:41:23.486391",
     "status": "completed"
    },
    "tags": []
   },
   "outputs": [],
   "source": []
  },
  {
   "cell_type": "code",
   "execution_count": null,
   "id": "d1027559",
   "metadata": {
    "papermill": {
     "duration": 0.072127,
     "end_time": "2022-04-01T13:41:23.700151",
     "exception": false,
     "start_time": "2022-04-01T13:41:23.628024",
     "status": "completed"
    },
    "tags": []
   },
   "outputs": [],
   "source": []
  },
  {
   "cell_type": "code",
   "execution_count": null,
   "id": "cc1f5ced",
   "metadata": {
    "papermill": {
     "duration": 0.070869,
     "end_time": "2022-04-01T13:41:23.841883",
     "exception": false,
     "start_time": "2022-04-01T13:41:23.771014",
     "status": "completed"
    },
    "tags": []
   },
   "outputs": [],
   "source": []
  }
 ],
 "metadata": {
  "kernelspec": {
   "display_name": "Python 3",
   "language": "python",
   "name": "python3"
  },
  "language_info": {
   "codemirror_mode": {
    "name": "ipython",
    "version": 3
   },
   "file_extension": ".py",
   "mimetype": "text/x-python",
   "name": "python",
   "nbconvert_exporter": "python",
   "pygments_lexer": "ipython3",
   "version": "3.7.12"
  },
  "papermill": {
   "default_parameters": {},
   "duration": 62.535205,
   "end_time": "2022-04-01T13:41:27.364355",
   "environment_variables": {},
   "exception": null,
   "input_path": "__notebook__.ipynb",
   "output_path": "__notebook__.ipynb",
   "parameters": {},
   "start_time": "2022-04-01T13:40:24.829150",
   "version": "2.3.3"
  }
 },
 "nbformat": 4,
 "nbformat_minor": 5
}
