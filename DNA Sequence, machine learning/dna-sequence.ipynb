{
 "cells": [
  {
   "cell_type": "code",
   "execution_count": 1,
   "id": "c483bdf7",
   "metadata": {
    "_cell_guid": "b1076dfc-b9ad-4769-8c92-a6c4dae69d19",
    "_uuid": "8f2839f25d086af736a60e9eeb907d3b93b6e0e5",
    "execution": {
     "iopub.execute_input": "2022-03-11T16:56:05.365874Z",
     "iopub.status.busy": "2022-03-11T16:56:05.364352Z",
     "iopub.status.idle": "2022-03-11T16:56:05.386733Z",
     "shell.execute_reply": "2022-03-11T16:56:05.387361Z",
     "shell.execute_reply.started": "2022-03-11T16:54:50.412863Z"
    },
    "papermill": {
     "duration": 0.073426,
     "end_time": "2022-03-11T16:56:05.387748",
     "exception": false,
     "start_time": "2022-03-11T16:56:05.314322",
     "status": "completed"
    },
    "tags": []
   },
   "outputs": [
    {
     "name": "stdout",
     "output_type": "stream",
     "text": [
      "/kaggle/input/dna-sequence-dataset/dog.txt\n",
      "/kaggle/input/dna-sequence-dataset/example_dna.fa\n",
      "/kaggle/input/dna-sequence-dataset/human.txt\n",
      "/kaggle/input/dna-sequence-dataset/chimpanzee.txt\n"
     ]
    }
   ],
   "source": [
    "# This Python 3 environment comes with many helpful analytics libraries installed\n",
    "# It is defined by the kaggle/python Docker image: https://github.com/kaggle/docker-python\n",
    "# For example, here's several helpful packages to load\n",
    "\n",
    "import numpy as np # linear algebra\n",
    "import pandas as pd # data processing, CSV file I/O (e.g. pd.read_csv)\n",
    "\n",
    "# Input data files are available in the read-only \"../input/\" directory\n",
    "# For example, running this (by clicking run or pressing Shift+Enter) will list all files under the input directory\n",
    "\n",
    "import os\n",
    "for dirname, _, filenames in os.walk('/kaggle/input'):\n",
    "    for filename in filenames:\n",
    "        print(os.path.join(dirname, filename))\n",
    "\n",
    "# You can write up to 20GB to the current directory (/kaggle/working/) that gets preserved as output when you create a version using \"Save & Run All\" \n",
    "# You can also write temporary files to /kaggle/temp/, but they won't be saved outside of the current session"
   ]
  },
  {
   "cell_type": "markdown",
   "id": "bbc31431",
   "metadata": {
    "papermill": {
     "duration": 0.045281,
     "end_time": "2022-03-11T16:56:05.485361",
     "exception": false,
     "start_time": "2022-03-11T16:56:05.440080",
     "status": "completed"
    },
    "tags": []
   },
   "source": [
    "# working with DNA sequence using Biopython\n",
    "\n",
    "* using Bio.SeqIO from Biopython for parsing DNA sequence data\n",
    "* we can acsess the sequence of ID, sequence and length of the sequence."
   ]
  },
  {
   "cell_type": "code",
   "execution_count": 2,
   "id": "6014f792",
   "metadata": {
    "execution": {
     "iopub.execute_input": "2022-03-11T16:56:05.579398Z",
     "iopub.status.busy": "2022-03-11T16:56:05.578602Z",
     "iopub.status.idle": "2022-03-11T16:56:05.776839Z",
     "shell.execute_reply": "2022-03-11T16:56:05.776244Z",
     "shell.execute_reply.started": "2022-03-11T16:54:50.426709Z"
    },
    "papermill": {
     "duration": 0.247907,
     "end_time": "2022-03-11T16:56:05.777040",
     "exception": false,
     "start_time": "2022-03-11T16:56:05.529133",
     "status": "completed"
    },
    "tags": []
   },
   "outputs": [
    {
     "name": "stdout",
     "output_type": "stream",
     "text": [
      "ENST00000435737.5\n",
      "###################################################################################################\n",
      "###################################################################################################\n",
      "ATGTTTCGCATCACCAACATTGAGTTTCTTCCCGAATACCGACAAAAGGAGTCCAGGGAATTTCTTTCAGTGTCACGGACTGTGCAGCAAGTGATAAACCTGGTTTATACAACATCTGCCTTCTCCAAATTTTATGAGCAGTCTGTTGTTGCAGATGTCAGCAACAACAAAGGCGGCCTCCTTGTCCACTTTTGGATTGTTTTTGTCATGCCACGTGCCAAAGGCCACATCTTCTGTGAAGACTGTGTTGCCGCCATCTTGAAGGACTCCATCCAGACAAGCATCATAAACCGGACCTCTGTGGGGAGCTTGCAGGGACTGGCTGTGGACATGGACTCTGTGGTACTAAATGAAGTCCTGGGGCTGACTCTCATTGTCTGGATTGACTGA\n",
      "###################################################################################################\n",
      "###################################################################################################\n",
      "390\n",
      "ENST00000419127.5\n",
      "###################################################################################################\n",
      "###################################################################################################\n",
      "ATGTTTCGCATCACCAACATTGAGTTTCTTCCCGAATACCGACAAAAGGAGTCCAGGGAATTTCTTTCAGTGTCACGGACTGTGCAGCAAGTGATAAACCTGGTTTATACAACATCTGCCTTCTCCAAATTTTATGAGCAGTCTGTTGTTGCAGATGTCAGCAACAACAAAGGCGGCCTCCTTGTCCACTTTTGGATTGTTTTTGTCATGCCACGTGCCAAAGGCCACATCTTCTGTGAAGACTGTGTTGCCGCCATCTTGAAGGACTCCATCCAGACAAGCATCATAAACCGGACCTCTGTGGGGAGCTTGCAGGGACTGGCTGTGGACATGGACTCTGTGGTACTAAATGACAAAGGCTGCTCTCAGTACTTCTATGCAGAGCATCTGTCTCTCCACTACCCGCTGGAGATTTCTGCAGCCTCAGGGAGGCTGATGTGTCACTTCAAGCTGGTGGCCATAGTGGGCTACCTGATTCGTCTCTCAATCAAGTCCATCCAAATCGAAGCCGACAACTGTGTCACTGACTCCCTGACCATTTACGACTCCCTTTTGCCCATCCGGAGCAGCATCTTGTACAGAATTTGTGAACCCACAAGAACATTAATGTCATTTGTTTCTACAAATAATCTCATGTTGGTGACATTTAAGTCTCCTCATATACGGAGGCTCTCAGGAATCCGGGCATATTTTGAGGTCATTCCAGAACAAAAGTGTGAAAACACAGTGTTGGTCAAAGACATCACTGGCTTTGAAGGGAAAATTTCAAGCCCATATTACCCGAGCTACTATCCTCCAAAATGCAAGTGTACCTGGAAATTTCAGACTTCTCTATCAACTCTTGGCATAGCACTGAAATTCTATAACTATTCAATAACCAAGAAGAGTATGAAAGGCTGTGAGCATGGATGGTGGGAAATTAATGAGCACATGTACTGTGGCTCCTACATGGATCATCAGACAATTTTTCGAGTGCCCAGCCCTCTGGTTCACATTCAGCTCCAGTGCAGTTCAAGGCTTTCAGACAAGCCACTTTTGGCAGAATATGGCAGTTACAACATCAGTCAACCCTGCCCTGTTGGATCTTTTAGATGCTCCTCCGGTTTATGTGTCCCTCAGGCCCAGCGTTGTGATGGAGTAAATGACTGCTTTGATGAAAGTGATGAACTGTTTTGCGTGAGCCCTCAACCTGCCTGCAATACCAGCTCCTTCAGGCAGCATGGCCCTCTCATCTGTGATGGCTTCAGGGACTGTGAGAATGGCCGGGATGAGCAAAACTGCACTCAAAGTATTCCATGCAACAACAGAACTTTTAAGTGTGGCAATGATATTTGCTTTAGGAAACAAAATGCAAAATGTGATGGGACAGTGGATTGTCCAGATGGAAGTGATGAAGAAGGCTGCACCTGCAGCAGGAGTTCCTCCGCCCTTCACCGCATCATCGGAGGCACAGACACCCTGGAGGGGGGTTGGCCGTGGCAGGTCAGCCTCCACTTTGTTGGATCTGCCTACTGTGGTGCCTCAGTCATCTCCAGGGAGTGGCTTCTTTCTGCAGCCCACTGTTTTCATGGAAACAGGCTGTCAGATCCCACACCATGGACTGCACACCTCGGGATGTATGTTCAGGGGAATGCCAAGTTTGTCTCCCCGGTGAGAAGAATTGTGGTCCACGAGTACTATAACAGTCAGACTTTTGATTATGATATTGCTTTGCTACAGCTCAGTATTGCCTGGCCTGAGACCCTGAAACAGCTCATTCAGCCAATATGCATTCCTCCCACTGGTCAGAGAGTTCGCAGTGGGGAGAAGTGCTGGGTAACTGGCTGGGGGCGAAGACACGAAGCAGATAATAAAGGCTCCCTCGTTCTGCAGCAAGCGGAGGTAGAGCTCATTGATCAAACGCTCTGTGTTTCCACCTACGGGATCATCACTTCTCGGATGCTCTGTGCAGGCATAATGTCAGGCAAGAGAGATGCCTGCAAAGGAGATTCGGGTGGACCTTTATCTTGTCGAAGAAAAAGTGATGGAAAATGGATTTTGACTGGCATTGTTAGCTGGGGACATGGAAGTGGACGACCAAACTTTCCTGGTGTTTACACAAGGGTGTCAAACTTTGTTCCCTGGATTCATAAATATGTCCCTTCTCTTTTGTAA\n",
      "###################################################################################################\n",
      "###################################################################################################\n",
      "2154\n"
     ]
    }
   ],
   "source": [
    "from Bio import SeqIO\n",
    "for sequence in SeqIO.parse('../input/dna-sequence-dataset/example_dna.fa', \"fasta\"):\n",
    "    print(sequence.id)\n",
    "    print(\"#\"*99)\n",
    "    print(\"#\"*99)\n",
    "    print(sequence.seq)\n",
    "    print(\"#\"*99)\n",
    "    print(\"#\"*99)\n",
    "    print(len(sequence))\n",
    "\n",
    "\n",
    "\n",
    "\n"
   ]
  },
  {
   "cell_type": "markdown",
   "id": "29d50218",
   "metadata": {
    "papermill": {
     "duration": 0.047003,
     "end_time": "2022-03-11T16:56:05.870134",
     "exception": false,
     "start_time": "2022-03-11T16:56:05.823131",
     "status": "completed"
    },
    "tags": []
   },
   "source": [
    "# how can we use it for machine learning and deep learning\n",
    "* we loaded our dna sequence data but our data in character or string format.\n",
    "* we need to encode these characters into matrics\n",
    "* 1. orfinal encoding DNA Sequence\n",
    "* 2. one-hot encoding DNA sequence\n",
    "* 3. DNA sequence as a \"language\" as k-mer counting\n"
   ]
  },
  {
   "cell_type": "markdown",
   "id": "4f287bac",
   "metadata": {
    "papermill": {
     "duration": 0.047359,
     "end_time": "2022-03-11T16:56:05.963550",
     "exception": false,
     "start_time": "2022-03-11T16:56:05.916191",
     "status": "completed"
    },
    "tags": []
   },
   "source": [
    "# Ordinal encoding DNA Sequence\n",
    "\n",
    "* encode each nitrogen base as a ordinal value\n",
    "* for exmaple: \"ATGC\" ---> [0.25, 0.5, 0.75, 1.0]\n",
    "* crete a function for creating Numpy array from a sequence string"
   ]
  },
  {
   "cell_type": "code",
   "execution_count": 3,
   "id": "b7288480",
   "metadata": {
    "execution": {
     "iopub.execute_input": "2022-03-11T16:56:06.060200Z",
     "iopub.status.busy": "2022-03-11T16:56:06.059452Z",
     "iopub.status.idle": "2022-03-11T16:56:07.193746Z",
     "shell.execute_reply": "2022-03-11T16:56:07.194278Z",
     "shell.execute_reply.started": "2022-03-11T16:54:50.441909Z"
    },
    "papermill": {
     "duration": 1.186382,
     "end_time": "2022-03-11T16:56:07.194479",
     "exception": false,
     "start_time": "2022-03-11T16:56:06.008097",
     "status": "completed"
    },
    "tags": []
   },
   "outputs": [
    {
     "data": {
      "text/plain": [
       "LabelEncoder()"
      ]
     },
     "execution_count": 3,
     "metadata": {},
     "output_type": "execute_result"
    }
   ],
   "source": [
    "import numpy as np\n",
    "import re\n",
    "\n",
    "def string_to_array(seq_string):\n",
    "    seq_string = seq_string.lower()\n",
    "    seq_string = re.sub('[^acgt]', 'n', seq_string)\n",
    "    seq_string = np.array(list(seq_string))\n",
    "    return seq_string\n",
    "\n",
    "# create a label encoder with 'acgtn' alphabet\n",
    "from sklearn.preprocessing import LabelEncoder\n",
    "label_encoder = LabelEncoder()\n",
    "label_encoder.fit(np.array(['a','c','g','t','z']))"
   ]
  },
  {
   "cell_type": "markdown",
   "id": "b733ad06",
   "metadata": {
    "papermill": {
     "duration": 0.044693,
     "end_time": "2022-03-11T16:56:07.283493",
     "exception": false,
     "start_time": "2022-03-11T16:56:07.238800",
     "status": "completed"
    },
    "tags": []
   },
   "source": [
    "function to encode a DNA sequence string as an ordinal vector \n",
    "which return a numpy array with A=0.25, C=0.5, G=0.75, T=1.00, n=0.00"
   ]
  },
  {
   "cell_type": "code",
   "execution_count": 4,
   "id": "9530f2be",
   "metadata": {
    "execution": {
     "iopub.execute_input": "2022-03-11T16:56:07.376369Z",
     "iopub.status.busy": "2022-03-11T16:56:07.375616Z",
     "iopub.status.idle": "2022-03-11T16:56:07.384588Z",
     "shell.execute_reply": "2022-03-11T16:56:07.385120Z",
     "shell.execute_reply.started": "2022-03-11T16:54:50.456599Z"
    },
    "papermill": {
     "duration": 0.057268,
     "end_time": "2022-03-11T16:56:07.385338",
     "exception": false,
     "start_time": "2022-03-11T16:56:07.328070",
     "status": "completed"
    },
    "tags": []
   },
   "outputs": [
    {
     "data": {
      "text/plain": [
       "array([1.  , 1.  , 0.5 , 0.25, 0.75, 0.5 , 0.75, 0.5 , 0.25, 0.75, 1.  ,\n",
       "       0.75])"
      ]
     },
     "execution_count": 4,
     "metadata": {},
     "output_type": "execute_result"
    }
   ],
   "source": [
    "def ordinal_encoder(my_array):\n",
    "    integer_encoded = label_encoder.transform(my_array)\n",
    "    float_encoded = integer_encoded.astype(float)\n",
    "    float_encoded[float_encoded == 0]= 0.25 # A\n",
    "    float_encoded[float_encoded == 1]= 0.50 # C\n",
    "    float_encoded[float_encoded == 2]= 0.75 # G\n",
    "    float_encoded[float_encoded == 3]= 1.00 # T\n",
    "    float_encoded[float_encoded == 4]= 0.00 # anithing else\n",
    "    \n",
    "    return float_encoded\n",
    "\n",
    "# try it with a simple sequence\n",
    "seq_test = 'TTCAGCGCAGTG'\n",
    "ordinal_encoder(string_to_array(seq_test))"
   ]
  },
  {
   "cell_type": "markdown",
   "id": "2db27e37",
   "metadata": {
    "papermill": {
     "duration": 0.044951,
     "end_time": "2022-03-11T16:56:07.477087",
     "exception": false,
     "start_time": "2022-03-11T16:56:07.432136",
     "status": "completed"
    },
    "tags": []
   },
   "source": [
    "# one-hot encoding DNA sequence\n",
    "\n",
    "* one-hot encoding is widely used in deep learning and convolutional neural network\n",
    "* example:\n",
    "* \"ATGC\" --> [0,0,0,1],[0,0,1,0],[0,1,0,0],[1,0,0,0]\n",
    "* these one-hot enocded vectors can be concatenated or turned into 2d arrays"
   ]
  },
  {
   "cell_type": "code",
   "execution_count": 5,
   "id": "4a6097da",
   "metadata": {
    "execution": {
     "iopub.execute_input": "2022-03-11T16:56:07.570248Z",
     "iopub.status.busy": "2022-03-11T16:56:07.569481Z",
     "iopub.status.idle": "2022-03-11T16:56:07.581305Z",
     "shell.execute_reply": "2022-03-11T16:56:07.581999Z",
     "shell.execute_reply.started": "2022-03-11T16:54:50.471383Z"
    },
    "papermill": {
     "duration": 0.060726,
     "end_time": "2022-03-11T16:56:07.582213",
     "exception": false,
     "start_time": "2022-03-11T16:56:07.521487",
     "status": "completed"
    },
    "tags": []
   },
   "outputs": [
    {
     "data": {
      "text/plain": [
       "array([[1, 0, 0],\n",
       "       [0, 0, 0],\n",
       "       [0, 0, 1],\n",
       "       [0, 1, 0],\n",
       "       [1, 0, 0],\n",
       "       [0, 0, 0],\n",
       "       [0, 0, 1],\n",
       "       [0, 1, 0],\n",
       "       [1, 0, 0],\n",
       "       [0, 0, 0],\n",
       "       [0, 0, 1],\n",
       "       [0, 1, 0]])"
      ]
     },
     "execution_count": 5,
     "metadata": {},
     "output_type": "execute_result"
    }
   ],
   "source": [
    "from sklearn.preprocessing import OneHotEncoder\n",
    "\n",
    "def one_hot_encoder(seq_string):\n",
    "    int_encoded = label_encoder.transform(seq_string)\n",
    "    onehot_encoder = OneHotEncoder(sparse=False, dtype=int)\n",
    "    int_encoded = int_encoded.reshape(len(int_encoded), 1)\n",
    "    onehot_encoded = onehot_encoder.fit_transform(int_encoded)\n",
    "    onehot_encoded = np.delete(onehot_encoded, -1, 1)\n",
    "    return onehot_encoded\n",
    "\n",
    "# try it out with simple exmaple\n",
    "seq_test = 'ATGCATGCATGC'\n",
    "one_hot_encoder(string_to_array(seq_test))"
   ]
  },
  {
   "cell_type": "markdown",
   "id": "306bdb75",
   "metadata": {
    "papermill": {
     "duration": 0.044744,
     "end_time": "2022-03-11T16:56:07.673065",
     "exception": false,
     "start_time": "2022-03-11T16:56:07.628321",
     "status": "completed"
    },
    "tags": []
   },
   "source": [
    "# DNA sequence as a “language”, known as k-mer counting\n",
    "\n",
    "* A hurdle that still remains is that none of these above methods results in vectors of uniform length, and that is a necessity for feeding data to a classification or regression algorithm. So with the above methods, you have to resort to things like truncating sequences or padding with “n” or “0” to get vectors of uniform length.\n",
    "\n",
    "* DNA and protein sequences can be seen as the language of life. The language encodes instructions as well as functions for the molecules that are found in all life forms. The sequence language resemblance continues with the genome as the book, subsequences (genes and gene families) are sentences and chapters, k-mers and peptides are words, and nucleotide bases and amino acids are the alphabets. Since the relationship seems so likely, it stands to reason that the natural language processing(NLP) should also implement the natural language of DNA and protein sequences.\n",
    "\n",
    "* The method we use here is manageable and easy. We first take the long biological sequence and break it down into k-mer length overlapping “words”. For example, if we use “words” of length 6 (hexamers), “ATGCATGCA” becomes: ‘ATGCAT’, ‘TGCATG’, ‘GCATGC’, ‘CATGCA’. Hence our example sequence is broken down into 4 hexamer words.\n",
    "\n",
    "* In genomics, we refer to these types of manipulations as “k-mer counting”, or counting the occurrences of each possible k-mer sequence and Python natural language processing tools make it super easy."
   ]
  },
  {
   "cell_type": "code",
   "execution_count": 6,
   "id": "f04a7064",
   "metadata": {
    "execution": {
     "iopub.execute_input": "2022-03-11T16:56:07.768864Z",
     "iopub.status.busy": "2022-03-11T16:56:07.767989Z",
     "iopub.status.idle": "2022-03-11T16:56:07.775793Z",
     "shell.execute_reply": "2022-03-11T16:56:07.776498Z",
     "shell.execute_reply.started": "2022-03-11T16:54:50.487910Z"
    },
    "papermill": {
     "duration": 0.058921,
     "end_time": "2022-03-11T16:56:07.776701",
     "exception": false,
     "start_time": "2022-03-11T16:56:07.717780",
     "status": "completed"
    },
    "tags": []
   },
   "outputs": [
    {
     "data": {
      "text/plain": [
       "['gtgcccagg',\n",
       " 'tgcccaggt',\n",
       " 'gcccaggtt',\n",
       " 'cccaggttc',\n",
       " 'ccaggttca',\n",
       " 'caggttcag',\n",
       " 'aggttcagt',\n",
       " 'ggttcagtg',\n",
       " 'gttcagtga',\n",
       " 'ttcagtgag',\n",
       " 'tcagtgagt',\n",
       " 'cagtgagtg',\n",
       " 'agtgagtga',\n",
       " 'gtgagtgac',\n",
       " 'tgagtgaca',\n",
       " 'gagtgacac',\n",
       " 'agtgacaca',\n",
       " 'gtgacacag',\n",
       " 'tgacacagg',\n",
       " 'gacacaggc',\n",
       " 'acacaggca',\n",
       " 'cacaggcag']"
      ]
     },
     "execution_count": 6,
     "metadata": {},
     "output_type": "execute_result"
    }
   ],
   "source": [
    "def Kmers_funct(seq, size):\n",
    "    return [seq[x:x+size].lower() for x in range(len(seq) - size + 1)]\n",
    "\n",
    "# try it out with simple example\n",
    "mySeq = 'GTGCCCAGGTTCAGTGAGTGACACAGGCAG'\n",
    "Kmers_funct(mySeq, size=9)"
   ]
  },
  {
   "cell_type": "markdown",
   "id": "92c551b4",
   "metadata": {
    "papermill": {
     "duration": 0.045168,
     "end_time": "2022-03-11T16:56:07.868024",
     "exception": false,
     "start_time": "2022-03-11T16:56:07.822856",
     "status": "completed"
    },
    "tags": []
   },
   "source": [
    "It returns a list of k-mer “words.” You can then join the “words” into a “sentence”, then apply your favorite natural language processing methods on the “sentences” as you normally would.\n",
    "\n"
   ]
  },
  {
   "cell_type": "code",
   "execution_count": 7,
   "id": "070bf7d6",
   "metadata": {
    "execution": {
     "iopub.execute_input": "2022-03-11T16:56:07.971741Z",
     "iopub.status.busy": "2022-03-11T16:56:07.970897Z",
     "iopub.status.idle": "2022-03-11T16:56:07.974022Z",
     "shell.execute_reply": "2022-03-11T16:56:07.974560Z",
     "shell.execute_reply.started": "2022-03-11T16:54:50.502243Z"
    },
    "papermill": {
     "duration": 0.059056,
     "end_time": "2022-03-11T16:56:07.974760",
     "exception": false,
     "start_time": "2022-03-11T16:56:07.915704",
     "status": "completed"
    },
    "tags": []
   },
   "outputs": [
    {
     "data": {
      "text/plain": [
       "'gtgccca tgcccag gcccagg cccaggt ccaggtt caggttc aggttca ggttcag gttcagt ttcagtg tcagtga cagtgag agtgagt gtgagtg tgagtga gagtgac agtgaca gtgacac tgacaca gacacag acacagg cacaggc acaggca caggcag'"
      ]
     },
     "execution_count": 7,
     "metadata": {},
     "output_type": "execute_result"
    }
   ],
   "source": [
    "words = Kmers_funct(mySeq, size=7)\n",
    "joined_sentence = ' '.join(words)\n",
    "joined_sentence"
   ]
  },
  {
   "cell_type": "markdown",
   "id": "493db3fe",
   "metadata": {
    "papermill": {
     "duration": 0.047664,
     "end_time": "2022-03-11T16:56:08.070540",
     "exception": false,
     "start_time": "2022-03-11T16:56:08.022876",
     "status": "completed"
    },
    "tags": []
   },
   "source": [
    "You can tune both the word length and the amount of overlap. This allows you to determine how the DNA sequence information and vocabulary size will be important in your application. For example, if you use words of length 6, and there are 4 letters, you have a vocabulary of size 4096 possible words. You can then go on and create a bag-of-words model like you would in NLP.\n",
    "\n",
    "Let’s make a couple more “sentences” to make it more interesting."
   ]
  },
  {
   "cell_type": "code",
   "execution_count": 8,
   "id": "410352b2",
   "metadata": {
    "execution": {
     "iopub.execute_input": "2022-03-11T16:56:08.170259Z",
     "iopub.status.busy": "2022-03-11T16:56:08.169461Z",
     "iopub.status.idle": "2022-03-11T16:56:08.176206Z",
     "shell.execute_reply": "2022-03-11T16:56:08.176906Z",
     "shell.execute_reply.started": "2022-03-11T16:54:50.515754Z"
    },
    "papermill": {
     "duration": 0.058742,
     "end_time": "2022-03-11T16:56:08.177128",
     "exception": false,
     "start_time": "2022-03-11T16:56:08.118386",
     "status": "completed"
    },
    "tags": []
   },
   "outputs": [
    {
     "name": "stdout",
     "output_type": "stream",
     "text": [
      "********************\n",
      "tctcac ctcaca tcacac cacaca acacat cacatg acatgt catgtg atgtgc tgtgcc gtgcca tgccaa gccaat ccaatc caatca aatcac atcact tcactg cactgt actgtc ctgtca tgtcac gtcacc tcaccc\n",
      "********************\n",
      "gtgccc tgccca gcccag cccagg ccaggt caggtt aggttc ggttca gttcag ttcagt tcagtg cagtga agtgag gtgagt tgagtg gagtga agtgac gtgaca tgacac gacaca acacag cacagg acaggc caggca aggcag\n"
     ]
    }
   ],
   "source": [
    "mySeq1 = 'TCTCACACATGTGCCAATCACTGTCACCC'\n",
    "mySeq2 = 'GTGCCCAGGTTCAGTGAGTGACACAGGCAG'\n",
    "sentence1 = ' '.join(Kmers_funct(mySeq1, size=6))\n",
    "sentence2 = ' '.join(Kmers_funct(mySeq2, size=6))\n",
    "print(\"*\"*20)\n",
    "print(sentence1)\n",
    "print(\"*\"*20)\n",
    "print(sentence2)"
   ]
  },
  {
   "cell_type": "code",
   "execution_count": 9,
   "id": "9629a815",
   "metadata": {
    "execution": {
     "iopub.execute_input": "2022-03-11T16:56:08.280777Z",
     "iopub.status.busy": "2022-03-11T16:56:08.280072Z",
     "iopub.status.idle": "2022-03-11T16:56:08.298881Z",
     "shell.execute_reply": "2022-03-11T16:56:08.299422Z",
     "shell.execute_reply.started": "2022-03-11T16:54:50.531234Z"
    },
    "papermill": {
     "duration": 0.075385,
     "end_time": "2022-03-11T16:56:08.299619",
     "exception": false,
     "start_time": "2022-03-11T16:56:08.224234",
     "status": "completed"
    },
    "tags": []
   },
   "outputs": [
    {
     "data": {
      "text/plain": [
       "array([[0, 0, 1, 0, 0, 1, 0, 0, 0, 0, 1, 0, 1, 0, 1, 0, 0, 0, 0, 0, 1, 0,\n",
       "        0, 0, 1, 0, 1, 0, 1, 0, 0, 0, 1, 0, 1, 0, 0, 0, 1, 0, 1, 0, 0, 1,\n",
       "        0, 1, 0, 0, 1, 0, 1, 0, 0, 1, 0, 1, 0, 0, 0, 0, 1, 0, 0, 1, 0, 1,\n",
       "        0, 0, 1, 0, 0, 0, 1],\n",
       "       [1, 0, 0, 1, 0, 0, 1, 1, 0, 0, 0, 0, 0, 0, 0, 1, 1, 1, 1, 0, 0, 1,\n",
       "        1, 0, 0, 0, 0, 0, 0, 1, 1, 0, 0, 0, 0, 1, 1, 0, 0, 0, 0, 1, 0, 0,\n",
       "        0, 0, 1, 0, 0, 0, 0, 1, 0, 0, 0, 0, 1, 1, 1, 0, 0, 1, 0, 0, 0, 0,\n",
       "        1, 0, 0, 1, 1, 0, 0],\n",
       "       [0, 1, 0, 0, 1, 0, 0, 0, 1, 1, 0, 1, 0, 1, 0, 0, 0, 0, 0, 1, 0, 0,\n",
       "        0, 1, 0, 1, 0, 1, 0, 0, 0, 1, 0, 1, 0, 0, 0, 1, 0, 1, 0, 0, 1, 0,\n",
       "        1, 0, 0, 1, 0, 1, 0, 0, 1, 0, 1, 0, 0, 0, 0, 1, 0, 0, 1, 0, 1, 0,\n",
       "        0, 1, 0, 0, 0, 1, 0]])"
      ]
     },
     "execution_count": 9,
     "metadata": {},
     "output_type": "execute_result"
    }
   ],
   "source": [
    "from sklearn.feature_extraction.text import CountVectorizer\n",
    "cv = CountVectorizer()\n",
    "X = cv.fit_transform([joined_sentence, sentence1, sentence2]).toarray()\n",
    "X"
   ]
  },
  {
   "cell_type": "markdown",
   "id": "d3c0315b",
   "metadata": {
    "papermill": {
     "duration": 0.046941,
     "end_time": "2022-03-11T16:56:08.393516",
     "exception": false,
     "start_time": "2022-03-11T16:56:08.346575",
     "status": "completed"
    },
    "tags": []
   },
   "source": [
    "# Objective:\n",
    "* Build a classification model that is trained on the human DNA sequence and can predict a gene family based on the DNA sequence of the coding sequence. To test the model, we will use the DNA sequence of humans, dogs, and chimpanzees and compare the accuracies.\n",
    "\n",
    "* Gene families are groups of related genes that share a common ancestor. Members of gene families may be paralogs or orthologs. Gene paralogs are genes with similar sequences from within the same species while gene orthologs are genes with similar sequences in different species.\n",
    "\n",
    "* The dataset contains human DNA sequence, Dog DNA sequence, and Chimpanzee DNA sequence."
   ]
  },
  {
   "cell_type": "code",
   "execution_count": 10,
   "id": "fc48b2d1",
   "metadata": {
    "execution": {
     "iopub.execute_input": "2022-03-11T16:56:08.493813Z",
     "iopub.status.busy": "2022-03-11T16:56:08.492954Z",
     "iopub.status.idle": "2022-03-11T16:56:08.505490Z",
     "shell.execute_reply": "2022-03-11T16:56:08.506047Z",
     "shell.execute_reply.started": "2022-03-11T16:54:50.644812Z"
    },
    "papermill": {
     "duration": 0.063562,
     "end_time": "2022-03-11T16:56:08.506259",
     "exception": false,
     "start_time": "2022-03-11T16:56:08.442697",
     "status": "completed"
    },
    "tags": []
   },
   "outputs": [
    {
     "name": "stdout",
     "output_type": "stream",
     "text": [
      "/kaggle/input/dna-sequence-dataset/dog.txt\n",
      "/kaggle/input/dna-sequence-dataset/example_dna.fa\n",
      "/kaggle/input/dna-sequence-dataset/human.txt\n",
      "/kaggle/input/dna-sequence-dataset/chimpanzee.txt\n"
     ]
    }
   ],
   "source": [
    "import numpy as np # linear algebra\n",
    "import pandas as pd # data processing, CSV file I/O (e.g. pd.read_csv)\n",
    "import os\n",
    "import matplotlib.pyplot as plt\n",
    "%matplotlib inline\n",
    "for dirname, _, filenames in os.walk('/kaggle/input'):\n",
    "    for filename in filenames:\n",
    "        print(os.path.join(dirname, filename))"
   ]
  },
  {
   "cell_type": "code",
   "execution_count": 11,
   "id": "506ee506",
   "metadata": {
    "execution": {
     "iopub.execute_input": "2022-03-11T16:56:08.606920Z",
     "iopub.status.busy": "2022-03-11T16:56:08.604091Z",
     "iopub.status.idle": "2022-03-11T16:56:08.749752Z",
     "shell.execute_reply": "2022-03-11T16:56:08.750410Z",
     "shell.execute_reply.started": "2022-03-11T16:54:50.665578Z"
    },
    "papermill": {
     "duration": 0.197079,
     "end_time": "2022-03-11T16:56:08.750631",
     "exception": false,
     "start_time": "2022-03-11T16:56:08.553552",
     "status": "completed"
    },
    "tags": []
   },
   "outputs": [
    {
     "data": {
      "text/html": [
       "<div>\n",
       "<style scoped>\n",
       "    .dataframe tbody tr th:only-of-type {\n",
       "        vertical-align: middle;\n",
       "    }\n",
       "\n",
       "    .dataframe tbody tr th {\n",
       "        vertical-align: top;\n",
       "    }\n",
       "\n",
       "    .dataframe thead th {\n",
       "        text-align: right;\n",
       "    }\n",
       "</style>\n",
       "<table border=\"1\" class=\"dataframe\">\n",
       "  <thead>\n",
       "    <tr style=\"text-align: right;\">\n",
       "      <th></th>\n",
       "      <th>sequence</th>\n",
       "      <th>class</th>\n",
       "    </tr>\n",
       "  </thead>\n",
       "  <tbody>\n",
       "    <tr>\n",
       "      <th>0</th>\n",
       "      <td>ATGCCCCAACTAAATACTACCGTATGGCCCACCATAATTACCCCCA...</td>\n",
       "      <td>4</td>\n",
       "    </tr>\n",
       "    <tr>\n",
       "      <th>1</th>\n",
       "      <td>ATGAACGAAAATCTGTTCGCTTCATTCATTGCCCCCACAATCCTAG...</td>\n",
       "      <td>4</td>\n",
       "    </tr>\n",
       "    <tr>\n",
       "      <th>2</th>\n",
       "      <td>ATGTGTGGCATTTGGGCGCTGTTTGGCAGTGATGATTGCCTTTCTG...</td>\n",
       "      <td>3</td>\n",
       "    </tr>\n",
       "    <tr>\n",
       "      <th>3</th>\n",
       "      <td>ATGTGTGGCATTTGGGCGCTGTTTGGCAGTGATGATTGCCTTTCTG...</td>\n",
       "      <td>3</td>\n",
       "    </tr>\n",
       "    <tr>\n",
       "      <th>4</th>\n",
       "      <td>ATGCAACAGCATTTTGAATTTGAATACCAGACCAAAGTGGATGGTG...</td>\n",
       "      <td>3</td>\n",
       "    </tr>\n",
       "  </tbody>\n",
       "</table>\n",
       "</div>"
      ],
      "text/plain": [
       "                                            sequence  class\n",
       "0  ATGCCCCAACTAAATACTACCGTATGGCCCACCATAATTACCCCCA...      4\n",
       "1  ATGAACGAAAATCTGTTCGCTTCATTCATTGCCCCCACAATCCTAG...      4\n",
       "2  ATGTGTGGCATTTGGGCGCTGTTTGGCAGTGATGATTGCCTTTCTG...      3\n",
       "3  ATGTGTGGCATTTGGGCGCTGTTTGGCAGTGATGATTGCCTTTCTG...      3\n",
       "4  ATGCAACAGCATTTTGAATTTGAATACCAGACCAAAGTGGATGGTG...      3"
      ]
     },
     "execution_count": 11,
     "metadata": {},
     "output_type": "execute_result"
    }
   ],
   "source": [
    "# load human data\n",
    "human_dna = pd.read_table('/kaggle/input/dna-sequence-dataset/human.txt')\n",
    "human_dna.head()"
   ]
  },
  {
   "cell_type": "code",
   "execution_count": 12,
   "id": "dcf0edd5",
   "metadata": {
    "execution": {
     "iopub.execute_input": "2022-03-11T16:56:08.854148Z",
     "iopub.status.busy": "2022-03-11T16:56:08.853349Z",
     "iopub.status.idle": "2022-03-11T16:56:09.105110Z",
     "shell.execute_reply": "2022-03-11T16:56:09.104392Z",
     "shell.execute_reply.started": "2022-03-11T16:54:50.775344Z"
    },
    "papermill": {
     "duration": 0.303802,
     "end_time": "2022-03-11T16:56:09.105277",
     "exception": false,
     "start_time": "2022-03-11T16:56:08.801475",
     "status": "completed"
    },
    "tags": []
   },
   "outputs": [
    {
     "data": {
      "text/plain": [
       "Text(0.5, 1.0, 'Class distribution of human DNA')"
      ]
     },
     "execution_count": 12,
     "metadata": {},
     "output_type": "execute_result"
    },
    {
     "data": {
      "image/png": "[encoded data removed]",
      "text/plain": [
       "<Figure size 432x288 with 1 Axes>"
      ]
     },
     "metadata": {
      "needs_background": "light"
     },
     "output_type": "display_data"
    }
   ],
   "source": [
    "human_dna['class'].value_counts().sort_index().plot.bar()\n",
    "plt.title(\"Class distribution of human DNA\")"
   ]
  },
  {
   "cell_type": "code",
   "execution_count": 13,
   "id": "fdbc38eb",
   "metadata": {
    "execution": {
     "iopub.execute_input": "2022-03-11T16:56:09.207594Z",
     "iopub.status.busy": "2022-03-11T16:56:09.206816Z",
     "iopub.status.idle": "2022-03-11T16:56:09.300842Z",
     "shell.execute_reply": "2022-03-11T16:56:09.301496Z",
     "shell.execute_reply.started": "2022-03-11T16:54:51.020413Z"
    },
    "papermill": {
     "duration": 0.146986,
     "end_time": "2022-03-11T16:56:09.301693",
     "exception": false,
     "start_time": "2022-03-11T16:56:09.154707",
     "status": "completed"
    },
    "tags": []
   },
   "outputs": [
    {
     "data": {
      "text/html": [
       "<div>\n",
       "<style scoped>\n",
       "    .dataframe tbody tr th:only-of-type {\n",
       "        vertical-align: middle;\n",
       "    }\n",
       "\n",
       "    .dataframe tbody tr th {\n",
       "        vertical-align: top;\n",
       "    }\n",
       "\n",
       "    .dataframe thead th {\n",
       "        text-align: right;\n",
       "    }\n",
       "</style>\n",
       "<table border=\"1\" class=\"dataframe\">\n",
       "  <thead>\n",
       "    <tr style=\"text-align: right;\">\n",
       "      <th></th>\n",
       "      <th>sequence</th>\n",
       "      <th>class</th>\n",
       "    </tr>\n",
       "  </thead>\n",
       "  <tbody>\n",
       "    <tr>\n",
       "      <th>0</th>\n",
       "      <td>ATGCCCCAACTAAATACCGCCGTATGACCCACCATAATTACCCCCA...</td>\n",
       "      <td>4</td>\n",
       "    </tr>\n",
       "    <tr>\n",
       "      <th>1</th>\n",
       "      <td>ATGAACGAAAATCTATTCGCTTCATTCGCTGCCCCCACAATCCTAG...</td>\n",
       "      <td>4</td>\n",
       "    </tr>\n",
       "    <tr>\n",
       "      <th>2</th>\n",
       "      <td>ATGGCCTCGCGCTGGTGGCGGTGGCGACGCGGCTGCTCCTGGAGGC...</td>\n",
       "      <td>4</td>\n",
       "    </tr>\n",
       "    <tr>\n",
       "      <th>3</th>\n",
       "      <td>ATGGCCTCGCGCTGGTGGCGGTGGCGACGCGGCTGCTCCTGGAGGC...</td>\n",
       "      <td>4</td>\n",
       "    </tr>\n",
       "    <tr>\n",
       "      <th>4</th>\n",
       "      <td>ATGGGCAGCGCCAGCCCGGGTCTGAGCAGCGTGTCCCCCAGCCACC...</td>\n",
       "      <td>6</td>\n",
       "    </tr>\n",
       "  </tbody>\n",
       "</table>\n",
       "</div>"
      ],
      "text/plain": [
       "                                            sequence  class\n",
       "0  ATGCCCCAACTAAATACCGCCGTATGACCCACCATAATTACCCCCA...      4\n",
       "1  ATGAACGAAAATCTATTCGCTTCATTCGCTGCCCCCACAATCCTAG...      4\n",
       "2  ATGGCCTCGCGCTGGTGGCGGTGGCGACGCGGCTGCTCCTGGAGGC...      4\n",
       "3  ATGGCCTCGCGCTGGTGGCGGTGGCGACGCGGCTGCTCCTGGAGGC...      4\n",
       "4  ATGGGCAGCGCCAGCCCGGGTCTGAGCAGCGTGTCCCCCAGCCACC...      6"
      ]
     },
     "execution_count": 13,
     "metadata": {},
     "output_type": "execute_result"
    }
   ],
   "source": [
    "chimp_dna = pd.read_table('../input/dna-sequence-dataset/chimpanzee.txt')\n",
    "chimp_dna.head()\n"
   ]
  },
  {
   "cell_type": "code",
   "execution_count": 14,
   "id": "9d7fac0a",
   "metadata": {
    "execution": {
     "iopub.execute_input": "2022-03-11T16:56:09.407747Z",
     "iopub.status.busy": "2022-03-11T16:56:09.407074Z",
     "iopub.status.idle": "2022-03-11T16:56:09.587329Z",
     "shell.execute_reply": "2022-03-11T16:56:09.587846Z",
     "shell.execute_reply.started": "2022-03-11T16:54:51.085592Z"
    },
    "papermill": {
     "duration": 0.235081,
     "end_time": "2022-03-11T16:56:09.588059",
     "exception": false,
     "start_time": "2022-03-11T16:56:09.352978",
     "status": "completed"
    },
    "tags": []
   },
   "outputs": [
    {
     "data": {
      "text/plain": [
       "Text(0.5, 1.0, 'Class distribution of Chimpanzee DNA')"
      ]
     },
     "execution_count": 14,
     "metadata": {},
     "output_type": "execute_result"
    },
    {
     "data": {
      "image/png": "[encoded data removed]",
      "text/plain": [
       "<Figure size 432x288 with 1 Axes>"
      ]
     },
     "metadata": {
      "needs_background": "light"
     },
     "output_type": "display_data"
    }
   ],
   "source": [
    "chimp_dna['class'].value_counts().sort_index().plot.bar()\n",
    "plt.title(\"Class distribution of Chimpanzee DNA\")\n"
   ]
  },
  {
   "cell_type": "code",
   "execution_count": 15,
   "id": "f7afd7ef",
   "metadata": {
    "execution": {
     "iopub.execute_input": "2022-03-11T16:56:09.695942Z",
     "iopub.status.busy": "2022-03-11T16:56:09.695274Z",
     "iopub.status.idle": "2022-03-11T16:56:09.749396Z",
     "shell.execute_reply": "2022-03-11T16:56:09.749973Z",
     "shell.execute_reply.started": "2022-03-11T16:54:51.306485Z"
    },
    "papermill": {
     "duration": 0.109346,
     "end_time": "2022-03-11T16:56:09.750173",
     "exception": false,
     "start_time": "2022-03-11T16:56:09.640827",
     "status": "completed"
    },
    "tags": []
   },
   "outputs": [
    {
     "data": {
      "text/html": [
       "<div>\n",
       "<style scoped>\n",
       "    .dataframe tbody tr th:only-of-type {\n",
       "        vertical-align: middle;\n",
       "    }\n",
       "\n",
       "    .dataframe tbody tr th {\n",
       "        vertical-align: top;\n",
       "    }\n",
       "\n",
       "    .dataframe thead th {\n",
       "        text-align: right;\n",
       "    }\n",
       "</style>\n",
       "<table border=\"1\" class=\"dataframe\">\n",
       "  <thead>\n",
       "    <tr style=\"text-align: right;\">\n",
       "      <th></th>\n",
       "      <th>sequence</th>\n",
       "      <th>class</th>\n",
       "    </tr>\n",
       "  </thead>\n",
       "  <tbody>\n",
       "    <tr>\n",
       "      <th>0</th>\n",
       "      <td>ATGCCACAGCTAGATACATCCACCTGATTTATTATAATCTTTTCAA...</td>\n",
       "      <td>4</td>\n",
       "    </tr>\n",
       "    <tr>\n",
       "      <th>1</th>\n",
       "      <td>ATGAACGAAAATCTATTCGCTTCTTTCGCTGCCCCCTCAATAATAG...</td>\n",
       "      <td>4</td>\n",
       "    </tr>\n",
       "    <tr>\n",
       "      <th>2</th>\n",
       "      <td>ATGGAAACACCCTTCTACGGCGATGAGGCGCTGAGCGGCCTGGGCG...</td>\n",
       "      <td>6</td>\n",
       "    </tr>\n",
       "    <tr>\n",
       "      <th>3</th>\n",
       "      <td>ATGTGCACTAAAATGGAACAGCCCTTCTACCACGACGACTCATACG...</td>\n",
       "      <td>6</td>\n",
       "    </tr>\n",
       "    <tr>\n",
       "      <th>4</th>\n",
       "      <td>ATGAGCCGGCAGCTAAACAGAAGCCAGAACTGCTCCTTCAGTGACG...</td>\n",
       "      <td>0</td>\n",
       "    </tr>\n",
       "  </tbody>\n",
       "</table>\n",
       "</div>"
      ],
      "text/plain": [
       "                                            sequence  class\n",
       "0  ATGCCACAGCTAGATACATCCACCTGATTTATTATAATCTTTTCAA...      4\n",
       "1  ATGAACGAAAATCTATTCGCTTCTTTCGCTGCCCCCTCAATAATAG...      4\n",
       "2  ATGGAAACACCCTTCTACGGCGATGAGGCGCTGAGCGGCCTGGGCG...      6\n",
       "3  ATGTGCACTAAAATGGAACAGCCCTTCTACCACGACGACTCATACG...      6\n",
       "4  ATGAGCCGGCAGCTAAACAGAAGCCAGAACTGCTCCTTCAGTGACG...      0"
      ]
     },
     "execution_count": 15,
     "metadata": {},
     "output_type": "execute_result"
    }
   ],
   "source": [
    "dog_dna = pd.read_table('../input/dna-sequence-dataset/dog.txt')\n",
    "dog_dna.head()"
   ]
  },
  {
   "cell_type": "code",
   "execution_count": 16,
   "id": "c09c1fd3",
   "metadata": {
    "execution": {
     "iopub.execute_input": "2022-03-11T16:56:09.858830Z",
     "iopub.status.busy": "2022-03-11T16:56:09.858100Z",
     "iopub.status.idle": "2022-03-11T16:56:10.037537Z",
     "shell.execute_reply": "2022-03-11T16:56:10.036912Z",
     "shell.execute_reply.started": "2022-03-11T16:54:51.340742Z"
    },
    "papermill": {
     "duration": 0.235566,
     "end_time": "2022-03-11T16:56:10.037700",
     "exception": false,
     "start_time": "2022-03-11T16:56:09.802134",
     "status": "completed"
    },
    "tags": []
   },
   "outputs": [
    {
     "data": {
      "text/plain": [
       "Text(0.5, 1.0, 'Class distribution of Dog DNA')"
      ]
     },
     "execution_count": 16,
     "metadata": {},
     "output_type": "execute_result"
    },
    {
     "data": {
      "image/png": "[encoded data removed]",
      "text/plain": [
       "<Figure size 432x288 with 1 Axes>"
      ]
     },
     "metadata": {
      "needs_background": "light"
     },
     "output_type": "display_data"
    }
   ],
   "source": [
    "dog_dna['class'].value_counts().sort_index().plot.bar()\n",
    "plt.title(\"Class distribution of Dog DNA\")\n"
   ]
  },
  {
   "cell_type": "markdown",
   "id": "8caa1410",
   "metadata": {
    "papermill": {
     "duration": 0.053815,
     "end_time": "2022-03-11T16:56:10.146789",
     "exception": false,
     "start_time": "2022-03-11T16:56:10.092974",
     "status": "completed"
    },
    "tags": []
   },
   "source": [
    "Now we have all our data loaded, the next step is to convert a sequence of characters into k-mer words, default size = 6 (hexamers). The function Kmers_funct() will collect all possible overlapping k-mers of a specified length from any sequence string.\n",
    "\n"
   ]
  },
  {
   "cell_type": "code",
   "execution_count": 17,
   "id": "8e3bc2bd",
   "metadata": {
    "execution": {
     "iopub.execute_input": "2022-03-11T16:56:10.262901Z",
     "iopub.status.busy": "2022-03-11T16:56:10.262185Z",
     "iopub.status.idle": "2022-03-11T16:56:13.755080Z",
     "shell.execute_reply": "2022-03-11T16:56:13.754275Z",
     "shell.execute_reply.started": "2022-03-11T16:54:51.557522Z"
    },
    "papermill": {
     "duration": 3.555539,
     "end_time": "2022-03-11T16:56:13.755253",
     "exception": false,
     "start_time": "2022-03-11T16:56:10.199714",
     "status": "completed"
    },
    "tags": []
   },
   "outputs": [],
   "source": [
    "def Kmers_funct(seq, size=6):\n",
    "    return [seq[x:x+size].lower() for x in range(len(seq) - size + 1)]\n",
    "\n",
    "\n",
    "#convert our training data sequences into short overlapping k-mers of length 6. \n",
    "#Lets do that for each species of data we have using our Kmers_funct function.\n",
    "\n",
    "human_dna['words'] = human_dna.apply(lambda x: Kmers_funct(x['sequence']), axis=1)\n",
    "human_dna = human_dna.drop('sequence', axis=1)\n",
    "\n",
    "chimp_dna['words'] = chimp_dna.apply(lambda x: Kmers_funct(x['sequence']), axis=1)\n",
    "chimp_dna = chimp_dna.drop('sequence', axis=1)\n",
    "\n",
    "dog_dna['words'] = dog_dna.apply(lambda x: Kmers_funct(x['sequence']), axis=1)\n",
    "dog_dna = dog_dna.drop('sequence', axis=1)"
   ]
  },
  {
   "cell_type": "markdown",
   "id": "e1912f42",
   "metadata": {
    "papermill": {
     "duration": 0.059315,
     "end_time": "2022-03-11T16:56:13.869530",
     "exception": false,
     "start_time": "2022-03-11T16:56:13.810215",
     "status": "completed"
    },
    "tags": []
   },
   "source": [
    "The DNA sequence is changed to lowercase, divided into all possible k-mer words of length 6, and ready for the next step.\n",
    "\n"
   ]
  },
  {
   "cell_type": "code",
   "execution_count": 18,
   "id": "86d7160a",
   "metadata": {
    "execution": {
     "iopub.execute_input": "2022-03-11T16:56:14.012397Z",
     "iopub.status.busy": "2022-03-11T16:56:14.011308Z",
     "iopub.status.idle": "2022-03-11T16:56:14.028098Z",
     "shell.execute_reply": "2022-03-11T16:56:14.028669Z",
     "shell.execute_reply.started": "2022-03-11T16:54:55.283359Z"
    },
    "papermill": {
     "duration": 0.081393,
     "end_time": "2022-03-11T16:56:14.028866",
     "exception": false,
     "start_time": "2022-03-11T16:56:13.947473",
     "status": "completed"
    },
    "tags": []
   },
   "outputs": [
    {
     "data": {
      "text/html": [
       "<div>\n",
       "<style scoped>\n",
       "    .dataframe tbody tr th:only-of-type {\n",
       "        vertical-align: middle;\n",
       "    }\n",
       "\n",
       "    .dataframe tbody tr th {\n",
       "        vertical-align: top;\n",
       "    }\n",
       "\n",
       "    .dataframe thead th {\n",
       "        text-align: right;\n",
       "    }\n",
       "</style>\n",
       "<table border=\"1\" class=\"dataframe\">\n",
       "  <thead>\n",
       "    <tr style=\"text-align: right;\">\n",
       "      <th></th>\n",
       "      <th>class</th>\n",
       "      <th>words</th>\n",
       "    </tr>\n",
       "  </thead>\n",
       "  <tbody>\n",
       "    <tr>\n",
       "      <th>0</th>\n",
       "      <td>4</td>\n",
       "      <td>[atgccc, tgcccc, gcccca, ccccaa, cccaac, ccaac...</td>\n",
       "    </tr>\n",
       "    <tr>\n",
       "      <th>1</th>\n",
       "      <td>4</td>\n",
       "      <td>[atgaac, tgaacg, gaacga, aacgaa, acgaaa, cgaaa...</td>\n",
       "    </tr>\n",
       "    <tr>\n",
       "      <th>2</th>\n",
       "      <td>3</td>\n",
       "      <td>[atgtgt, tgtgtg, gtgtgg, tgtggc, gtggca, tggca...</td>\n",
       "    </tr>\n",
       "    <tr>\n",
       "      <th>3</th>\n",
       "      <td>3</td>\n",
       "      <td>[atgtgt, tgtgtg, gtgtgg, tgtggc, gtggca, tggca...</td>\n",
       "    </tr>\n",
       "    <tr>\n",
       "      <th>4</th>\n",
       "      <td>3</td>\n",
       "      <td>[atgcaa, tgcaac, gcaaca, caacag, aacagc, acagc...</td>\n",
       "    </tr>\n",
       "  </tbody>\n",
       "</table>\n",
       "</div>"
      ],
      "text/plain": [
       "   class                                              words\n",
       "0      4  [atgccc, tgcccc, gcccca, ccccaa, cccaac, ccaac...\n",
       "1      4  [atgaac, tgaacg, gaacga, aacgaa, acgaaa, cgaaa...\n",
       "2      3  [atgtgt, tgtgtg, gtgtgg, tgtggc, gtggca, tggca...\n",
       "3      3  [atgtgt, tgtgtg, gtgtgg, tgtggc, gtggca, tggca...\n",
       "4      3  [atgcaa, tgcaac, gcaaca, caacag, aacagc, acagc..."
      ]
     },
     "execution_count": 18,
     "metadata": {},
     "output_type": "execute_result"
    }
   ],
   "source": [
    "human_dna.head()"
   ]
  },
  {
   "cell_type": "markdown",
   "id": "2c866e2e",
   "metadata": {
    "papermill": {
     "duration": 0.060479,
     "end_time": "2022-03-11T16:56:14.144301",
     "exception": false,
     "start_time": "2022-03-11T16:56:14.083822",
     "status": "completed"
    },
    "tags": []
   },
   "source": [
    "We need to now convert the lists of k-mers for each gene into string sentences of words that can be used to create the Bag of Words model. We will make a target variable y to hold the class labels"
   ]
  },
  {
   "cell_type": "code",
   "execution_count": 19,
   "id": "4f3e4a61",
   "metadata": {
    "execution": {
     "iopub.execute_input": "2022-03-11T16:56:14.279458Z",
     "iopub.status.busy": "2022-03-11T16:56:14.278395Z",
     "iopub.status.idle": "2022-03-11T16:56:14.546687Z",
     "shell.execute_reply": "2022-03-11T16:56:14.545562Z",
     "shell.execute_reply.started": "2022-03-11T16:54:55.302031Z"
    },
    "papermill": {
     "duration": 0.343269,
     "end_time": "2022-03-11T16:56:14.546947",
     "exception": false,
     "start_time": "2022-03-11T16:56:14.203678",
     "status": "completed"
    },
    "tags": []
   },
   "outputs": [],
   "source": [
    "human_texts = list(human_dna['words'])\n",
    "for item in range(len(human_texts)):\n",
    "    human_texts[item] = ' '.join(human_texts[item])\n",
    "    \n",
    "# seperate lables\n",
    "y_human = human_dna.iloc[:, 0].values "
   ]
  },
  {
   "cell_type": "markdown",
   "id": "6ac80448",
   "metadata": {
    "papermill": {
     "duration": 0.060067,
     "end_time": "2022-03-11T16:56:14.666707",
     "exception": false,
     "start_time": "2022-03-11T16:56:14.606640",
     "status": "completed"
    },
    "tags": []
   },
   "source": [
    "same for chimp and dog"
   ]
  },
  {
   "cell_type": "code",
   "execution_count": 20,
   "id": "f73369e8",
   "metadata": {
    "execution": {
     "iopub.execute_input": "2022-03-11T16:56:14.800225Z",
     "iopub.status.busy": "2022-03-11T16:56:14.795054Z",
     "iopub.status.idle": "2022-03-11T16:56:15.034024Z",
     "shell.execute_reply": "2022-03-11T16:56:15.033277Z",
     "shell.execute_reply.started": "2022-03-11T16:54:55.580571Z"
    },
    "papermill": {
     "duration": 0.313546,
     "end_time": "2022-03-11T16:56:15.034185",
     "exception": false,
     "start_time": "2022-03-11T16:56:14.720639",
     "status": "completed"
    },
    "tags": []
   },
   "outputs": [],
   "source": [
    "chimp_texts = list(chimp_dna['words'])\n",
    "for item in range(len(chimp_texts)):\n",
    "    chimp_texts[item] = ' '.join(chimp_texts[item])\n",
    "    \n",
    "# seperate labels\n",
    "y_chimp = chimp_dna.iloc[:, 0].values\n",
    "\n",
    "dog_texts = list(dog_dna['words'])\n",
    "for item in range(len(dog_texts)):\n",
    "    dog_texts[item] = ' '.join(dog_texts[item])\n",
    "    \n",
    "# seperate labels\n",
    "y_dog = dog_dna.iloc[:, 0].values"
   ]
  },
  {
   "cell_type": "code",
   "execution_count": 21,
   "id": "30f8ca09",
   "metadata": {
    "execution": {
     "iopub.execute_input": "2022-03-11T16:56:15.152605Z",
     "iopub.status.busy": "2022-03-11T16:56:15.151808Z",
     "iopub.status.idle": "2022-03-11T16:56:15.156502Z",
     "shell.execute_reply": "2022-03-11T16:56:15.155893Z",
     "shell.execute_reply.started": "2022-03-11T16:54:55.845584Z"
    },
    "papermill": {
     "duration": 0.067749,
     "end_time": "2022-03-11T16:56:15.156658",
     "exception": false,
     "start_time": "2022-03-11T16:56:15.088909",
     "status": "completed"
    },
    "tags": []
   },
   "outputs": [
    {
     "data": {
      "text/plain": [
       "array([4, 4, 3, ..., 6, 6, 6])"
      ]
     },
     "execution_count": 21,
     "metadata": {},
     "output_type": "execute_result"
    }
   ],
   "source": [
    "y_human"
   ]
  },
  {
   "cell_type": "markdown",
   "id": "fa49db85",
   "metadata": {
    "papermill": {
     "duration": 0.054722,
     "end_time": "2022-03-11T16:56:15.266504",
     "exception": false,
     "start_time": "2022-03-11T16:56:15.211782",
     "status": "completed"
    },
    "tags": []
   },
   "source": [
    "Creating the Bag of Words model using CountVectorizer(). This is equivalent to k-mer counting. The n-gram size of 4 was previously determined by testing.\n",
    "\n",
    "Convert our k-mer words into uniform length numerical vectors that represent counts for every k-mer in the vocabulary:\n",
    "\n"
   ]
  },
  {
   "cell_type": "code",
   "execution_count": 22,
   "id": "ef436462",
   "metadata": {
    "execution": {
     "iopub.execute_input": "2022-03-11T16:56:15.388271Z",
     "iopub.status.busy": "2022-03-11T16:56:15.387466Z",
     "iopub.status.idle": "2022-03-11T16:56:37.605472Z",
     "shell.execute_reply": "2022-03-11T16:56:37.606053Z",
     "shell.execute_reply.started": "2022-03-11T16:54:55.853759Z"
    },
    "papermill": {
     "duration": 22.285314,
     "end_time": "2022-03-11T16:56:37.606260",
     "exception": false,
     "start_time": "2022-03-11T16:56:15.320946",
     "status": "completed"
    },
    "tags": []
   },
   "outputs": [],
   "source": [
    "from sklearn.feature_extraction.text import CountVectorizer\n",
    "cv = CountVectorizer(ngram_range=(4,4))\n",
    "#The n-gram size of 4 is previously determined by testing\n",
    "\n",
    "X = cv.fit_transform(human_texts)\n",
    "X_chimp = cv.transform(chimp_texts)\n",
    "X_dog = cv.transform(dog_texts)"
   ]
  },
  {
   "cell_type": "code",
   "execution_count": 23,
   "id": "bd65ba6c",
   "metadata": {
    "execution": {
     "iopub.execute_input": "2022-03-11T16:56:37.724941Z",
     "iopub.status.busy": "2022-03-11T16:56:37.722681Z",
     "iopub.status.idle": "2022-03-11T16:56:37.729590Z",
     "shell.execute_reply": "2022-03-11T16:56:37.730139Z",
     "shell.execute_reply.started": "2022-03-11T16:55:16.430627Z"
    },
    "papermill": {
     "duration": 0.066688,
     "end_time": "2022-03-11T16:56:37.730363",
     "exception": false,
     "start_time": "2022-03-11T16:56:37.663675",
     "status": "completed"
    },
    "tags": []
   },
   "outputs": [
    {
     "name": "stdout",
     "output_type": "stream",
     "text": [
      "(4380, 232414)\n",
      "(1682, 232414)\n",
      "(820, 232414)\n"
     ]
    }
   ],
   "source": [
    "print(X.shape)\n",
    "print(X_chimp.shape)\n",
    "print(X_dog.shape)"
   ]
  },
  {
   "cell_type": "markdown",
   "id": "322898bf",
   "metadata": {
    "papermill": {
     "duration": 0.05381,
     "end_time": "2022-03-11T16:56:37.838625",
     "exception": false,
     "start_time": "2022-03-11T16:56:37.784815",
     "status": "completed"
    },
    "tags": []
   },
   "source": [
    "So, for humans we have 4380 genes converted into uniform length feature vectors of 4-gram k-mer (length 6) counts. For chimp and dog, we have the same number of features with 1682 and 820 genes respectively.\n",
    "\n",
    "So now that we know how to transform our DNA sequences into uniform length numerical vectors in the form of k-mer counts and ngrams, we can now go ahead and build a classification model that can predict the DNA sequence function based only on the sequence itself.\n",
    "\n",
    "Here I will use the human data to train the model, holding out 20% of the human data to test the model. Then we can challenge the model’s generalizability by trying to predict sequence function in other species (the chimpanzee and dog).\n",
    "\n",
    "Next, train/test split human dataset and build simple multinomial naive Bayes classifier.\n",
    "\n",
    "You might want to do some parameter tuning and build a model with different ngram sizes, here I’ll go ahead with an ngram size of 4 and a model alpha of 0.1."
   ]
  },
  {
   "cell_type": "code",
   "execution_count": 24,
   "id": "b8ca3b23",
   "metadata": {
    "execution": {
     "iopub.execute_input": "2022-03-11T16:56:37.957017Z",
     "iopub.status.busy": "2022-03-11T16:56:37.955852Z",
     "iopub.status.idle": "2022-03-11T16:56:38.036956Z",
     "shell.execute_reply": "2022-03-11T16:56:38.037482Z",
     "shell.execute_reply.started": "2022-03-11T16:55:16.437675Z"
    },
    "papermill": {
     "duration": 0.14362,
     "end_time": "2022-03-11T16:56:38.037695",
     "exception": false,
     "start_time": "2022-03-11T16:56:37.894075",
     "status": "completed"
    },
    "tags": []
   },
   "outputs": [],
   "source": [
    "# Splitting the human dataset into the training set and test set\n",
    "from sklearn.model_selection import train_test_split\n",
    "X_train, X_test, y_train, y_test = train_test_split(X, \n",
    "                                                    y_human, \n",
    "                                                    test_size = 0.20, \n",
    "                                                    random_state=42)"
   ]
  },
  {
   "cell_type": "markdown",
   "id": "11ea0de3",
   "metadata": {
    "papermill": {
     "duration": 0.055661,
     "end_time": "2022-03-11T16:56:38.149264",
     "exception": false,
     "start_time": "2022-03-11T16:56:38.093603",
     "status": "completed"
    },
    "tags": []
   },
   "source": [
    "We will create a multinomial naive Bayes classifier. I previously did some parameter tuning and found the ngram size of 4 (reflected in the Countvectorizer() instance) and a model alpha of 0.1 did the best. Just to keep it simple I won't show that code here."
   ]
  },
  {
   "cell_type": "code",
   "execution_count": 25,
   "id": "4bf6222d",
   "metadata": {
    "execution": {
     "iopub.execute_input": "2022-03-11T16:56:38.274391Z",
     "iopub.status.busy": "2022-03-11T16:56:38.273236Z",
     "iopub.status.idle": "2022-03-11T16:56:38.517666Z",
     "shell.execute_reply": "2022-03-11T16:56:38.518189Z",
     "shell.execute_reply.started": "2022-03-11T16:55:16.472569Z"
    },
    "papermill": {
     "duration": 0.309489,
     "end_time": "2022-03-11T16:56:38.518409",
     "exception": false,
     "start_time": "2022-03-11T16:56:38.208920",
     "status": "completed"
    },
    "tags": []
   },
   "outputs": [
    {
     "data": {
      "text/plain": [
       "MultinomialNB(alpha=0.1)"
      ]
     },
     "execution_count": 25,
     "metadata": {},
     "output_type": "execute_result"
    }
   ],
   "source": [
    "from sklearn.naive_bayes import MultinomialNB\n",
    "classifier = MultinomialNB(alpha=0.1)\n",
    "classifier.fit(X_train, y_train)"
   ]
  },
  {
   "cell_type": "markdown",
   "id": "c6fcf95e",
   "metadata": {
    "papermill": {
     "duration": 0.056507,
     "end_time": "2022-03-11T16:56:38.632078",
     "exception": false,
     "start_time": "2022-03-11T16:56:38.575571",
     "status": "completed"
    },
    "tags": []
   },
   "source": [
    "Now let's make predictions on the human hold out test set and see how it performes on unseen data.¶\n"
   ]
  },
  {
   "cell_type": "code",
   "execution_count": 26,
   "id": "13f20759",
   "metadata": {
    "execution": {
     "iopub.execute_input": "2022-03-11T16:56:38.747489Z",
     "iopub.status.busy": "2022-03-11T16:56:38.746237Z",
     "iopub.status.idle": "2022-03-11T16:56:38.785386Z",
     "shell.execute_reply": "2022-03-11T16:56:38.784760Z",
     "shell.execute_reply.started": "2022-03-11T16:55:16.612774Z"
    },
    "papermill": {
     "duration": 0.099199,
     "end_time": "2022-03-11T16:56:38.785547",
     "exception": false,
     "start_time": "2022-03-11T16:56:38.686348",
     "status": "completed"
    },
    "tags": []
   },
   "outputs": [],
   "source": [
    "y_pred = classifier.predict(X_test)\n"
   ]
  },
  {
   "cell_type": "markdown",
   "id": "18c6cf8a",
   "metadata": {
    "papermill": {
     "duration": 0.056068,
     "end_time": "2022-03-11T16:56:38.898767",
     "exception": false,
     "start_time": "2022-03-11T16:56:38.842699",
     "status": "completed"
    },
    "tags": []
   },
   "source": [
    "Okay, so let's look at some model performce metrics like the confusion matrix, accuracy, precision, recall and f1 score. We are getting really good results on our unseen data, so it looks like our model did not overfit to the training data. In a real project I would go back and sample many more train test splits since we have a relatively small data set.\n",
    "\n"
   ]
  },
  {
   "cell_type": "code",
   "execution_count": 27,
   "id": "011787a7",
   "metadata": {
    "execution": {
     "iopub.execute_input": "2022-03-11T16:56:39.020496Z",
     "iopub.status.busy": "2022-03-11T16:56:39.019408Z",
     "iopub.status.idle": "2022-03-11T16:56:39.050711Z",
     "shell.execute_reply": "2022-03-11T16:56:39.049909Z",
     "shell.execute_reply.started": "2022-03-11T16:55:16.643263Z"
    },
    "papermill": {
     "duration": 0.097918,
     "end_time": "2022-03-11T16:56:39.050889",
     "exception": false,
     "start_time": "2022-03-11T16:56:38.952971",
     "status": "completed"
    },
    "tags": []
   },
   "outputs": [
    {
     "name": "stdout",
     "output_type": "stream",
     "text": [
      "Confusion matrix for predictions on human test DNA sequence\n",
      "\n",
      "Predicted   0    1   2    3    4   5    6\n",
      "Actual                                   \n",
      "0          99    0   0    0    1   0    2\n",
      "1           0  104   0    0    0   0    2\n",
      "2           0    0  78    0    0   0    0\n",
      "3           0    0   0  124    0   0    1\n",
      "4           1    0   0    0  143   0    5\n",
      "5           0    0   0    0    0  51    0\n",
      "6           1    0   0    1    0   0  263\n",
      "accuracy = 0.984 \n",
      "precision = 0.984 \n",
      "recall = 0.984 \n",
      "f1 = 0.984\n"
     ]
    }
   ],
   "source": [
    "from sklearn.metrics import accuracy_score, f1_score, precision_score, recall_score\n",
    "print(\"Confusion matrix for predictions on human test DNA sequence\\n\")\n",
    "print(pd.crosstab(pd.Series(y_test, name='Actual'), pd.Series(y_pred, name='Predicted')))\n",
    "def get_metrics(y_test, y_predicted):\n",
    "    accuracy = accuracy_score(y_test, y_predicted)\n",
    "    precision = precision_score(y_test, y_predicted, average='weighted')\n",
    "    recall = recall_score(y_test, y_predicted, average='weighted')\n",
    "    f1 = f1_score(y_test, y_predicted, average='weighted')\n",
    "    return accuracy, precision, recall, f1\n",
    "accuracy, precision, recall, f1 = get_metrics(y_test, y_pred)\n",
    "print(\"accuracy = %.3f \\nprecision = %.3f \\nrecall = %.3f \\nf1 = %.3f\" % (accuracy, precision, recall, f1))"
   ]
  },
  {
   "cell_type": "markdown",
   "id": "c2fa34fb",
   "metadata": {
    "papermill": {
     "duration": 0.0553,
     "end_time": "2022-03-11T16:56:39.162866",
     "exception": false,
     "start_time": "2022-03-11T16:56:39.107566",
     "status": "completed"
    },
    "tags": []
   },
   "source": [
    "Now for the real test. Let's see how our model perfoms on the DNA sequences from other species. First we'll try the Chimpanzee, which we would expect to be very similar to human. Then we will try man's (and woman's) best friend, the Dog DNA sequences.\n",
    "\n"
   ]
  },
  {
   "cell_type": "code",
   "execution_count": 28,
   "id": "7d6cb03f",
   "metadata": {
    "execution": {
     "iopub.execute_input": "2022-03-11T16:56:39.281993Z",
     "iopub.status.busy": "2022-03-11T16:56:39.280754Z",
     "iopub.status.idle": "2022-03-11T16:56:39.358641Z",
     "shell.execute_reply": "2022-03-11T16:56:39.357911Z",
     "shell.execute_reply.started": "2022-03-11T16:55:16.675652Z"
    },
    "papermill": {
     "duration": 0.140505,
     "end_time": "2022-03-11T16:56:39.358810",
     "exception": false,
     "start_time": "2022-03-11T16:56:39.218305",
     "status": "completed"
    },
    "tags": []
   },
   "outputs": [],
   "source": [
    "# Predicting the chimp, dog sequences\n",
    "y_pred_chimp = classifier.predict(X_chimp)\n"
   ]
  },
  {
   "cell_type": "code",
   "execution_count": 29,
   "id": "e7ea8efe",
   "metadata": {
    "execution": {
     "iopub.execute_input": "2022-03-11T16:56:39.481145Z",
     "iopub.status.busy": "2022-03-11T16:56:39.479879Z",
     "iopub.status.idle": "2022-03-11T16:56:39.506395Z",
     "shell.execute_reply": "2022-03-11T16:56:39.507064Z",
     "shell.execute_reply.started": "2022-03-11T16:55:16.764890Z"
    },
    "papermill": {
     "duration": 0.092748,
     "end_time": "2022-03-11T16:56:39.507272",
     "exception": false,
     "start_time": "2022-03-11T16:56:39.414524",
     "status": "completed"
    },
    "tags": []
   },
   "outputs": [
    {
     "name": "stdout",
     "output_type": "stream",
     "text": [
      "Confusion matrix for predictions on Chimpanzee test DNA sequence\n",
      "\n",
      "Predicted    0    1    2    3    4    5    6\n",
      "Actual                                      \n",
      "0          232    0    0    0    0    0    2\n",
      "1            0  184    0    0    0    0    1\n",
      "2            0    0  144    0    0    0    0\n",
      "3            0    0    0  227    0    0    1\n",
      "4            2    0    0    0  254    0    5\n",
      "5            0    0    0    0    0  109    0\n",
      "6            0    0    0    0    0    0  521\n",
      "accuracy = 0.993 \n",
      "precision = 0.994 \n",
      "recall = 0.993 \n",
      "f1 = 0.993\n"
     ]
    }
   ],
   "source": [
    "# performance on chimpanzee genes\n",
    "print(\"Confusion matrix for predictions on Chimpanzee test DNA sequence\\n\")\n",
    "print(pd.crosstab(pd.Series(y_chimp, name='Actual'), pd.Series(y_pred_chimp, name='Predicted')))\n",
    "accuracy, precision, recall, f1 = get_metrics(y_chimp, y_pred_chimp)\n",
    "print(\"accuracy = %.3f \\nprecision = %.3f \\nrecall = %.3f \\nf1 = %.3f\" % (accuracy, precision, recall, f1))\n"
   ]
  },
  {
   "cell_type": "markdown",
   "id": "7777e26d",
   "metadata": {
    "papermill": {
     "duration": 0.058445,
     "end_time": "2022-03-11T16:56:39.622547",
     "exception": false,
     "start_time": "2022-03-11T16:56:39.564102",
     "status": "completed"
    },
    "tags": []
   },
   "source": [
    "Let us now do predictions on Dog test DNA sequence.\n",
    "\n"
   ]
  },
  {
   "cell_type": "code",
   "execution_count": 30,
   "id": "b87ef532",
   "metadata": {
    "execution": {
     "iopub.execute_input": "2022-03-11T16:56:39.744048Z",
     "iopub.status.busy": "2022-03-11T16:56:39.743325Z",
     "iopub.status.idle": "2022-03-11T16:56:39.790695Z",
     "shell.execute_reply": "2022-03-11T16:56:39.790091Z",
     "shell.execute_reply.started": "2022-03-11T16:55:16.801521Z"
    },
    "papermill": {
     "duration": 0.10985,
     "end_time": "2022-03-11T16:56:39.790858",
     "exception": false,
     "start_time": "2022-03-11T16:56:39.681008",
     "status": "completed"
    },
    "tags": []
   },
   "outputs": [],
   "source": [
    "y_pred_dog = classifier.predict(X_dog)\n"
   ]
  },
  {
   "cell_type": "code",
   "execution_count": 31,
   "id": "ef96ecb2",
   "metadata": {
    "execution": {
     "iopub.execute_input": "2022-03-11T16:56:39.907322Z",
     "iopub.status.busy": "2022-03-11T16:56:39.906606Z",
     "iopub.status.idle": "2022-03-11T16:56:39.934031Z",
     "shell.execute_reply": "2022-03-11T16:56:39.934649Z",
     "shell.execute_reply.started": "2022-03-11T16:55:16.838130Z"
    },
    "papermill": {
     "duration": 0.087611,
     "end_time": "2022-03-11T16:56:39.934847",
     "exception": false,
     "start_time": "2022-03-11T16:56:39.847236",
     "status": "completed"
    },
    "tags": []
   },
   "outputs": [
    {
     "name": "stdout",
     "output_type": "stream",
     "text": [
      "Confusion matrix for predictions on Dog test DNA sequence\n",
      "\n",
      "Predicted    0   1   2   3    4   5    6\n",
      "Actual                                  \n",
      "0          127   0   0   0    0   0    4\n",
      "1            0  63   0   0    1   0   11\n",
      "2            0   0  49   0    1   0   14\n",
      "3            1   0   0  81    2   0   11\n",
      "4            4   0   0   1  126   0    4\n",
      "5            4   0   0   0    1  53    2\n",
      "6            0   0   0   0    0   0  260\n",
      "accuracy = 0.926 \n",
      "precision = 0.934 \n",
      "recall = 0.926 \n",
      "f1 = 0.925\n"
     ]
    }
   ],
   "source": [
    "# performance on dog genes\n",
    "print(\"Confusion matrix for predictions on Dog test DNA sequence\\n\")\n",
    "print(pd.crosstab(pd.Series(y_dog, name='Actual'), pd.Series(y_pred_dog, name='Predicted')))\n",
    "accuracy, precision, recall, f1 = get_metrics(y_dog, y_pred_dog)\n",
    "print(\"accuracy = %.3f \\nprecision = %.3f \\nrecall = %.3f \\nf1 = %.3f\" % (accuracy, precision, recall, f1))"
   ]
  }
 ],
 "metadata": {
  "kernelspec": {
   "display_name": "Python 3",
   "language": "python",
   "name": "python3"
  },
  "language_info": {
   "codemirror_mode": {
    "name": "ipython",
    "version": 3
   },
   "file_extension": ".py",
   "mimetype": "text/x-python",
   "name": "python",
   "nbconvert_exporter": "python",
   "pygments_lexer": "ipython3",
   "version": "3.7.12"
  },
  "papermill": {
   "default_parameters": {},
   "duration": 47.845312,
   "end_time": "2022-03-11T16:56:41.612074",
   "environment_variables": {},
   "exception": null,
   "input_path": "__notebook__.ipynb",
   "output_path": "__notebook__.ipynb",
   "parameters": {},
   "start_time": "2022-03-11T16:55:53.766762",
   "version": "2.3.3"
  }
 },
 "nbformat": 4,
 "nbformat_minor": 5
}
